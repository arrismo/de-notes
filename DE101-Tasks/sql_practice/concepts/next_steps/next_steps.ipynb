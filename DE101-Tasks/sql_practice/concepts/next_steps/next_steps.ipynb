{
 "cells": [
  {
   "cell_type": "markdown",
   "id": "60241e2a-52d2-4fef-ae85-12a018717629",
   "metadata": {},
   "source": [
    "\n",
    "## What's next\n",
    "\n",
    "* Want to learn more? -> \n",
    "\t1. Learning foundational concepts\n",
    "\t2. Building hands on end-to-end projects using industry-standard tools as a step by step process\n",
    "\t3. Hosting project on AWS cloud\n",
    "\t4. Targeted data portfolio \n",
    "\t5. Job hunt strategies\n",
    "    6. Homework to practice concepts learned\n",
    "    7. Help channel and weekly office hours with me\n",
    "\n",
    "If you like this workshop, you'd love my [Practical Hands on Data Engineering Workshop](https://astounding-architect-5764.ck.page/684e1f422f).\n"
   ]
  },
  {
   "cell_type": "markdown",
   "id": "9a3a74fe-92e5-4701-93b2-e3b55d0e792c",
   "metadata": {},
   "source": [
    "## Read these \n",
    "\n",
    "1. [Code and slide available here](https://github.com/josephmachado/adv_data_transformation_in_sql)\n",
    "\n",
    "2. [Subscribe to Startdataengineering news letter](https://www.startdataengineering.com/news-letter/) \n",
    "\n",
    "## General pointers\n",
    "\n",
    "* Practice patterns/mental models for real work \n",
    "\n",
    "* Practice LC for interviews\n",
    "\n",
    "## Q & A\n",
    "\n",
    "* Do you have any questions about what we went through in this session?\n",
    "\t* Window functions: Aggregate, Value, ranking\n",
    "\t* CTEs: readability and DRY \n",
    "\t* Common analytical patterns\n"
   ]
  },
  {
   "cell_type": "code",
   "execution_count": null,
   "id": "20d3ffd4-c0b0-4bb3-b9a3-230e8d05264f",
   "metadata": {},
   "outputs": [],
   "source": []
  }
 ],
 "metadata": {
  "kernelspec": {
   "display_name": "Python 3 (ipykernel)",
   "language": "python",
   "name": "python3"
  },
  "language_info": {
   "codemirror_mode": {
    "name": "ipython",
    "version": 3
   },
   "file_extension": ".py",
   "mimetype": "text/x-python",
   "name": "python",
   "nbconvert_exporter": "python",
   "pygments_lexer": "ipython3",
   "version": "3.12.4"
  }
 },
 "nbformat": 4,
 "nbformat_minor": 5
}
