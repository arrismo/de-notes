{
 "cells": [
  {
   "cell_type": "code",
   "execution_count": null,
   "id": "e771811e-34a3-495d-93ab-4fedc7676b80",
   "metadata": {},
   "outputs": [],
   "source": [
    "# Load the extension\n",
    "%load_ext sql"
   ]
  },
  {
   "cell_type": "code",
   "execution_count": null,
   "id": "8863cb4b-7179-43c9-8bff-6267ca5f48de",
   "metadata": {},
   "outputs": [],
   "source": [
    "# Connect to DuckDB\n",
    "# NOTE: ONLY 1 NOTEBOOK CAN BE CONNECTED TO DUCKDB AT ANY TIME\n",
    "%sql duckdb:///../../tpch.db"
   ]
  },
  {
   "cell_type": "markdown",
   "id": "da2ccd51-2fe7-4026-9966-95d457b6b0d5",
   "metadata": {},
   "source": [
    "# [Exercise] \n",
    "\n",
    "Calculate the money lost due to discounts. Use lineitem to get the price of items (without discounts) that are part of an order and compare it to the order.\n",
    "\n",
    "**Time limit during live workshop: 10 min**\n",
    "\n",
    "**Hint**: Figure out the grain that the comparison need to be made in. Think in steps i.e. get the price of all the items in an order without discounts and then compare it to the orders data whose `totalprice` has been computed with discounts.\n",
    "\n",
    "Here are the schemas of `orders` and `lineitem` tables.\n",
    "\n",
    "![Orders table](../../images/orders.png)\n",
    "\n",
    "\n",
    "![lineitem table](../../images/lineitem.png)\n"
   ]
  },
  {
   "cell_type": "code",
   "execution_count": null,
   "id": "6bc86cd7-6900-4eba-a9ab-f9be5fcb8514",
   "metadata": {},
   "outputs": [],
   "source": [
    "%%sql\n",
    "WITH lineitem_agg AS (\n",
    "    SELECT \n",
    "        l_orderkey,\n",
    "        SUM(l_extendedprice) AS total_price_without_discount\n",
    "    FROM \n",
    "        lineitem\n",
    "    GROUP BY \n",
    "        l_orderkey\n",
    ")\n",
    "SELECT \n",
    "    o.o_orderkey,\n",
    "    o.o_totalprice, \n",
    "    l.total_price_without_discount - o.o_totalprice AS amount_lost_to_discount\n",
    "FROM \n",
    "    orders o\n",
    "JOIN \n",
    "    lineitem_agg l ON o.o_orderkey = l.l_orderkey\n",
    "ORDER BY \n",
    "    o.o_orderkey;\n"
   ]
  },
  {
   "cell_type": "markdown",
   "id": "5b37e123-9289-412a-a129-41d04d4a1fbc",
   "metadata": {},
   "source": [
    "# [Exercise]\n",
    "\n",
    "**Time limit during live workshop: 10 min** \n",
    "\n",
    "**Scenario**: Assume you are building tables for your data team and creating this CTE.\n",
    "    \n",
    "**Question**: From a team-wide table reusability perspective, what do you think is wrong with the above query?\n",
    "\n",
    "**Question**: How would you change this Code so that your colleagues can reuse your work?\n"
   ]
  },
  {
   "cell_type": "markdown",
   "id": "14c4082e-a48c-4312-8d1c-bf1d97d33265",
   "metadata": {},
   "source": [
    "The CTEs created cannot be reused by team members.\n",
    "    \n",
    "To reuse the CTEs the code will need to be duplicated across your code base, which is bad!\n",
    "\n",
    "You can instead define the CTEs as tables or views that can be reused (e.g. dbt)."
   ]
  }
 ],
 "metadata": {
  "kernelspec": {
   "display_name": "Python 3 (ipykernel)",
   "language": "python",
   "name": "python3"
  },
  "language_info": {
   "codemirror_mode": {
    "name": "ipython",
    "version": 3
   },
   "file_extension": ".py",
   "mimetype": "text/x-python",
   "name": "python",
   "nbconvert_exporter": "python",
   "pygments_lexer": "ipython3",
   "version": "3.12.4"
  }
 },
 "nbformat": 4,
 "nbformat_minor": 5
}
