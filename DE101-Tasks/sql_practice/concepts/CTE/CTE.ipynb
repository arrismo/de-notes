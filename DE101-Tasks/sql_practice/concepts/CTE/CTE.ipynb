{
 "cells": [
  {
   "cell_type": "markdown",
   "id": "cffbfed0-b7a6-4566-b115-c41e99aa9faf",
   "metadata": {},
   "source": [
    "# [SETUP] \n",
    "connect to DuckDB"
   ]
  },
  {
   "cell_type": "code",
   "execution_count": null,
   "id": "7f30430b-63aa-4633-b29f-adc0489ac2c7",
   "metadata": {},
   "outputs": [],
   "source": [
    "# Load the extension\n",
    "%load_ext sql"
   ]
  },
  {
   "cell_type": "code",
   "execution_count": null,
   "id": "a862021c-47db-4c3e-9bfb-ded3a4fec94d",
   "metadata": {},
   "outputs": [],
   "source": [
    "# Connect to DuckDB\n",
    "%sql duckdb:///../../tpch.db"
   ]
  },
  {
   "cell_type": "code",
   "execution_count": null,
   "id": "0385ed52-a0e3-4468-b788-286de790e725",
   "metadata": {},
   "outputs": [],
   "source": [
    "%config SqlMagic.displaylimit = 100"
   ]
  },
  {
   "cell_type": "code",
   "execution_count": null,
   "id": "b9b39af2-51bd-4d26-922f-ab485a3f2faf",
   "metadata": {},
   "outputs": [],
   "source": [
    "%%sql\n",
    "-- Run a simple show tables\n",
    "SELECT\n",
    "  table_name\n",
    "FROM\n",
    "  information_schema.tables\n",
    "WHERE\n",
    "  table_schema = 'main'"
   ]
  },
  {
   "cell_type": "code",
   "execution_count": null,
   "id": "bfc258e2-4bb1-4545-bd8c-d2a7c877708e",
   "metadata": {},
   "outputs": [],
   "source": [
    "# If you do not see any tables run the below command (after uncommeting it)\n",
    "#! python setup.py"
   ]
  },
  {
   "cell_type": "markdown",
   "id": "f9c17ad2-bac0-42f4-bd82-36d53757f1a2",
   "metadata": {},
   "source": [
    "# [WHY] CTE (Common Table Expression) can improve readability and reduce code repetition"
   ]
  },
  {
   "cell_type": "markdown",
   "id": "0c181c47-3490-4402-b358-2ce2e597b503",
   "metadata": {},
   "source": [
    "CTEs make testing complex queries simpler\n",
    "\n",
    "* A CTE is a select statement that can be reused in a single query. \n",
    "\n",
    "* Complex SQL queries often involve multiple sub-queries. Multiple sub-queries make the code hard to read.\n",
    "\n",
    "* Use a Common Table Expression (CTE) to make your queries readable\n"
   ]
  },
  {
   "cell_type": "markdown",
   "id": "8d712781-a0b7-4e64-846c-54e2c5062618",
   "metadata": {},
   "source": [
    "## [HOW] to define a CTE\n"
   ]
  },
  {
   "cell_type": "markdown",
   "id": "15d09966-4978-4117-be42-15109a9adb52",
   "metadata": {},
   "source": [
    "### [Example]"
   ]
  },
  {
   "cell_type": "code",
   "execution_count": 6,
   "id": "a5e9e363-e2b3-429a-985a-12f9dae05f3c",
   "metadata": {},
   "outputs": [
    {
     "data": {
      "text/html": [
       "<span style=\"None\">Running query in &#x27;duckdb:///../../tpch.db&#x27;</span>"
      ],
      "text/plain": [
       "Running query in 'duckdb:///../../tpch.db'"
      ]
     },
     "metadata": {},
     "output_type": "display_data"
    },
    {
     "data": {
      "text/html": [
       "<table>\n",
       "    <thead>\n",
       "        <tr>\n",
       "            <th>nation_name</th>\n",
       "            <th>num_supplied_parts</th>\n",
       "            <th>num_purchased_parts</th>\n",
       "        </tr>\n",
       "    </thead>\n",
       "    <tbody>\n",
       "        <tr>\n",
       "            <td>ALGERIA</td>\n",
       "            <td>6454691.00</td>\n",
       "            <td>6117618.00</td>\n",
       "        </tr>\n",
       "        <tr>\n",
       "            <td>ARGENTINA</td>\n",
       "            <td>6339724.00</td>\n",
       "            <td>6087566.00</td>\n",
       "        </tr>\n",
       "        <tr>\n",
       "            <td>BRAZIL</td>\n",
       "            <td>6085551.00</td>\n",
       "            <td>6149174.00</td>\n",
       "        </tr>\n",
       "        <tr>\n",
       "            <td>CANADA</td>\n",
       "            <td>6296547.00</td>\n",
       "            <td>6168913.00</td>\n",
       "        </tr>\n",
       "        <tr>\n",
       "            <td>EGYPT</td>\n",
       "            <td>6385468.00</td>\n",
       "            <td>6024134.00</td>\n",
       "        </tr>\n",
       "        <tr>\n",
       "            <td>ETHIOPIA</td>\n",
       "            <td>5817697.00</td>\n",
       "            <td>6095241.00</td>\n",
       "        </tr>\n",
       "        <tr>\n",
       "            <td>FRANCE</td>\n",
       "            <td>6141618.00</td>\n",
       "            <td>6289987.00</td>\n",
       "        </tr>\n",
       "        <tr>\n",
       "            <td>GERMANY</td>\n",
       "            <td>6076474.00</td>\n",
       "            <td>6098776.00</td>\n",
       "        </tr>\n",
       "        <tr>\n",
       "            <td>INDIA</td>\n",
       "            <td>6347392.00</td>\n",
       "            <td>6102406.00</td>\n",
       "        </tr>\n",
       "        <tr>\n",
       "            <td>INDONESIA</td>\n",
       "            <td>6204759.00</td>\n",
       "            <td>6276420.00</td>\n",
       "        </tr>\n",
       "    </tbody>\n",
       "</table>"
      ],
      "text/plain": [
       "+-------------+--------------------+---------------------+\n",
       "| nation_name | num_supplied_parts | num_purchased_parts |\n",
       "+-------------+--------------------+---------------------+\n",
       "|   ALGERIA   |     6454691.00     |      6117618.00     |\n",
       "|  ARGENTINA  |     6339724.00     |      6087566.00     |\n",
       "|    BRAZIL   |     6085551.00     |      6149174.00     |\n",
       "|    CANADA   |     6296547.00     |      6168913.00     |\n",
       "|    EGYPT    |     6385468.00     |      6024134.00     |\n",
       "|   ETHIOPIA  |     5817697.00     |      6095241.00     |\n",
       "|    FRANCE   |     6141618.00     |      6289987.00     |\n",
       "|   GERMANY   |     6076474.00     |      6098776.00     |\n",
       "|    INDIA    |     6347392.00     |      6102406.00     |\n",
       "|  INDONESIA  |     6204759.00     |      6276420.00     |\n",
       "+-------------+--------------------+---------------------+"
      ]
     },
     "execution_count": 6,
     "metadata": {},
     "output_type": "execute_result"
    }
   ],
   "source": [
    "%%sql\n",
    "-- CTE definition\n",
    "WITH\n",
    "  supplier_nation_metrics AS ( -- CTE 1 defined using WITH keyword\n",
    "    SELECT\n",
    "      n.n_nationkey,\n",
    "      SUM(l.l_QUANTITY) AS num_supplied_parts\n",
    "    FROM\n",
    "      lineitem l\n",
    "      JOIN supplier s ON l.l_suppkey = s.s_suppkey\n",
    "      JOIN nation n ON s.s_nationkey = n.n_nationkey\n",
    "    GROUP BY\n",
    "      n.n_nationkey\n",
    "  ),\n",
    "  buyer_nation_metrics AS ( -- CTE 2 defined just as a name\n",
    "    SELECT\n",
    "      n.n_nationkey,\n",
    "      SUM(l.l_QUANTITY) AS num_purchased_parts\n",
    "    FROM\n",
    "      lineitem l\n",
    "      JOIN orders o ON l.l_orderkey = o.o_orderkey\n",
    "      JOIN customer c ON o.o_custkey = c.c_custkey\n",
    "      JOIN nation n ON c.c_nationkey = n.n_nationkey\n",
    "    GROUP BY\n",
    "      n.n_nationkey\n",
    "  )\n",
    "SELECT -- The final select will not have a comma before it\n",
    "  n.n_name AS nation_name,\n",
    "  s.num_supplied_parts,\n",
    "  b.num_purchased_parts\n",
    "FROM\n",
    "  nation n\n",
    "  LEFT JOIN supplier_nation_metrics s ON n.n_nationkey = s.n_nationkey\n",
    "  LEFT JOIN buyer_nation_metrics b ON n.n_nationkey = b.n_nationkey\n",
    "LIMIT 10;"
   ]
  },
  {
   "cell_type": "markdown",
   "id": "29457bfa-861b-4f4d-9b87-b5cadfa0642e",
   "metadata": {},
   "source": [
    "### [Exercise] \n",
    "\n",
    "Calculate the money lost due to discounts. Use lineitem to get the price of items (without discounts) that are part of an order and compare it to the order.\n",
    "\n",
    "**Time limit during live workshop: 10 min**\n",
    "\n",
    "**Hint**: Figure out the grain that the comparison need to be made in. Think in steps i.e. get the price of all the items in an order without discounts and then compare it to the orders data whose `totalprice` has been computed with discounts.\n",
    "\n",
    "Here are the schemas of `orders` and `lineitem` tables.\n",
    "\n",
    "![Orders table](../../images/orders.png)\n",
    "\n",
    "\n",
    "![lineitem table](../../images/lineitem.png)\n"
   ]
  },
  {
   "cell_type": "code",
   "execution_count": null,
   "id": "01cd58f2-ec54-4d34-9b5d-2a03cec92fce",
   "metadata": {},
   "outputs": [],
   "source": [
    "%%sql\n",
    "-- your code here"
   ]
  },
  {
   "cell_type": "markdown",
   "id": "8b12b005-e820-4acb-b191-a2cc1c226470",
   "metadata": {},
   "source": [
    "# [WHY] Just because you can doesn’t mean you should. Be mindful of code readability.\n",
    "\n",
    "1. A sql query with multiple temporary tables is better than a 1000-line SQL query with numerous CTEs.\n",
    "\n",
    "2. Keep the number of CTE per query small (depends on the size of the query, but typically < 5)\n",
    "\n"
   ]
  },
  {
   "cell_type": "markdown",
   "id": "3d81160a-a5bb-49c8-8f61-cbeccad441a4",
   "metadata": {},
   "source": [
    "**Casestudy:**\n",
    "  \n",
    "Read the query below and answer the question\n",
    "\n",
    "```sql\n",
    "%%sql\n",
    "with orders as (\n",
    "select\n",
    "        order_id,\n",
    "        customer_id,\n",
    "        order_status,\n",
    "        order_purchase_timestamp::TIMESTAMP AS order_purchase_timestamp,\n",
    "        order_approved_at::TIMESTAMP AS order_approved_at,\n",
    "        order_delivered_carrier_date::TIMESTAMP AS order_delivered_carrier_date,\n",
    "        order_delivered_customer_date::TIMESTAMP AS order_delivered_customer_date,\n",
    "        order_estimated_delivery_date::TIMESTAMP AS order_estimated_delivery_date\n",
    "    from raw_layer.orders\n",
    "    ),\n",
    " stg_customers as (\n",
    "    select\n",
    "        customer_id,\n",
    "        zipcode,\n",
    "        city,\n",
    "        state_code,\n",
    "        datetime_created::TIMESTAMP as datetime_created,\n",
    "        datetime_updated::TIMESTAMP as datetime_updated,\n",
    "        dbt_valid_from,\n",
    "        dbt_valid_to\n",
    "    from customer_snapshot\n",
    "),\n",
    "state as (\n",
    "select\n",
    "        state_id::INT as state_id,\n",
    "        state_code::VARCHAR(2) as state_code,\n",
    "        state_name::VARCHAR(30) as state_name\n",
    "    from raw_layer.state\n",
    "    ),\n",
    "dim_customers as (\n",
    "select\n",
    "    c.customer_id,\n",
    "    c.zipcode,\n",
    "    c.city,\n",
    "    c.state_code,\n",
    "    s.state_name,\n",
    "    c.datetime_created,\n",
    "    c.datetime_updated,\n",
    "    c.dbt_valid_from::TIMESTAMP as valid_from,\n",
    "    case\n",
    "        when c.dbt_valid_to is NULL then '9999-12-31'::TIMESTAMP\n",
    "        else c.dbt_valid_to::TIMESTAMP\n",
    "    end as valid_to\n",
    "from stg_customers as c\n",
    "inner join state as s on c.state_code = s.state_code\n",
    ")\n",
    "select\n",
    "    o.order_id,\n",
    "    o.customer_id,\n",
    "    o.order_status,\n",
    "    o.order_purchase_timestamp,\n",
    "    o.order_approved_at,\n",
    "    o.order_delivered_carrier_date,\n",
    "    o.order_delivered_customer_date,\n",
    "    o.order_estimated_delivery_date,\n",
    "    c.zipcode as customer_zipcode,\n",
    "    c.city as customer_city,\n",
    "    c.state_code as customer_state_code,\n",
    "    c.state_name as customer_state_name\n",
    "from orders as o\n",
    "inner join dim_customers as c on\n",
    "    o.customer_id = c.customer_id\n",
    "    and o.order_purchase_timestamp >= c.valid_from\n",
    "    and o.order_purchase_timestamp <= c.valid_to;\n",
    "```"
   ]
  },
  {
   "cell_type": "markdown",
   "id": "182c7a8f-cb97-4626-82d2-0703b058dd24",
   "metadata": {},
   "source": [
    "## [Exercise]\n",
    "\n",
    "**Time limit during live workshop: 10 min** \n",
    "\n",
    "**Scenario**: Assume you are building tables for your data team and creating this CTE.\n",
    "    \n",
    "**Question**: From a team-wide table reusability perspective, what do you think is wrong with the above query?\n",
    "\n",
    "**Question**: How would you change this Code so that your colleagues can reuse your work?\n"
   ]
  },
  {
   "cell_type": "markdown",
   "id": "2774bfc6-4415-490e-b9c6-8b032d4005df",
   "metadata": {},
   "source": [
    "# Recap\n",
    "\n",
    "1. CTEs help with the readability and reusability of your query\n",
    "\n",
    "2. CTEs are defined using the WITH keyword\n",
    "\n",
    "3. Don’t overuse CTE; be mindful of query size\n",
    "\n",
    "4. CTEs performance depends on the DB; check your query plan\n",
    "\n"
   ]
  },
  {
   "cell_type": "markdown",
   "id": "aa59f675-8bc4-4cb4-9fcf-2c327e9f9f08",
   "metadata": {},
   "source": [
    "# Helpers\n",
    "\n",
    "1. Solutions are available at [workshop_solutions](./workshop_solutions.ipynb). **Note** You need to stop the kernel in this notebook before starting the next one, since DuckDB can only have one worker on it at a time.\n",
    "2. Note the `outline`(or `Table of Contents` in the left pane on Jupyter notebook) is a easy way to navigate this workbook."
   ]
  },
  {
   "cell_type": "markdown",
   "id": "532f1e78-ce41-49e6-858d-be79bbe9a7ef",
   "metadata": {},
   "source": [
    "# Questions"
   ]
  },
  {
   "cell_type": "code",
   "execution_count": null,
   "id": "d15f2db2-e7aa-4a0b-bfeb-b323355a4c58",
   "metadata": {},
   "outputs": [],
   "source": []
  }
 ],
 "metadata": {
  "kernelspec": {
   "display_name": "Python 3 (ipykernel)",
   "language": "python",
   "name": "python3"
  },
  "language_info": {
   "codemirror_mode": {
    "name": "ipython",
    "version": 3
   },
   "file_extension": ".py",
   "mimetype": "text/x-python",
   "name": "python",
   "nbconvert_exporter": "python",
   "pygments_lexer": "ipython3",
   "version": "3.12.4"
  }
 },
 "nbformat": 4,
 "nbformat_minor": 5
}
