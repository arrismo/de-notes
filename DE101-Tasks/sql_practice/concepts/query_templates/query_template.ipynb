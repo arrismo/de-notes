{
 "cells": [
  {
   "cell_type": "markdown",
   "id": "428c8527-56cf-4ad6-ac48-0017dbd90f40",
   "metadata": {},
   "source": [
    "# [SETUP] \n",
    "connect to DuckDB"
   ]
  },
  {
   "cell_type": "code",
   "execution_count": 1,
   "id": "9fdaffe6-9914-44a3-b6bf-2bf1fec7b0b3",
   "metadata": {},
   "outputs": [],
   "source": [
    "# Load the extension\n",
    "%load_ext sql"
   ]
  },
  {
   "cell_type": "code",
   "execution_count": 2,
   "id": "350c3383-7830-425e-ad0a-6fa3967ee8a0",
   "metadata": {},
   "outputs": [
    {
     "data": {
      "text/html": [
       "<span style=\"None\">Connecting to &#x27;duckdb:///../../tpch.db&#x27;</span>"
      ],
      "text/plain": [
       "Connecting to 'duckdb:///../../tpch.db'"
      ]
     },
     "metadata": {},
     "output_type": "display_data"
    }
   ],
   "source": [
    "# Connect to DuckDB\n",
    "%sql duckdb:///../../tpch.db"
   ]
  },
  {
   "cell_type": "code",
   "execution_count": 3,
   "id": "7b85cd95-2536-4533-8288-945d3837b4aa",
   "metadata": {},
   "outputs": [],
   "source": [
    "%config SqlMagic.displaylimit = 100"
   ]
  },
  {
   "cell_type": "code",
   "execution_count": 4,
   "id": "028a7f4d-3f4f-4e92-848b-ec1d41c430cc",
   "metadata": {},
   "outputs": [
    {
     "data": {
      "text/html": [
       "<span style=\"None\">Running query in &#x27;duckdb:///../../tpch.db&#x27;</span>"
      ],
      "text/plain": [
       "Running query in 'duckdb:///../../tpch.db'"
      ]
     },
     "metadata": {},
     "output_type": "display_data"
    },
    {
     "data": {
      "text/html": [
       "<table>\n",
       "    <thead>\n",
       "        <tr>\n",
       "            <th>table_name</th>\n",
       "        </tr>\n",
       "    </thead>\n",
       "    <tbody>\n",
       "        <tr>\n",
       "            <td>customer</td>\n",
       "        </tr>\n",
       "        <tr>\n",
       "            <td>lineitem</td>\n",
       "        </tr>\n",
       "        <tr>\n",
       "            <td>nation</td>\n",
       "        </tr>\n",
       "        <tr>\n",
       "            <td>orders</td>\n",
       "        </tr>\n",
       "        <tr>\n",
       "            <td>part</td>\n",
       "        </tr>\n",
       "        <tr>\n",
       "            <td>partsupp</td>\n",
       "        </tr>\n",
       "        <tr>\n",
       "            <td>region</td>\n",
       "        </tr>\n",
       "        <tr>\n",
       "            <td>supplier</td>\n",
       "        </tr>\n",
       "    </tbody>\n",
       "</table>"
      ],
      "text/plain": [
       "+------------+\n",
       "| table_name |\n",
       "+------------+\n",
       "|  customer  |\n",
       "|  lineitem  |\n",
       "|   nation   |\n",
       "|   orders   |\n",
       "|    part    |\n",
       "|  partsupp  |\n",
       "|   region   |\n",
       "|  supplier  |\n",
       "+------------+"
      ]
     },
     "execution_count": 4,
     "metadata": {},
     "output_type": "execute_result"
    }
   ],
   "source": [
    "%%sql\n",
    "-- Run a simple show tables\n",
    "SELECT\n",
    "  table_name\n",
    "FROM\n",
    "  information_schema.tables\n",
    "WHERE\n",
    "  table_schema = 'main'"
   ]
  },
  {
   "cell_type": "code",
   "execution_count": null,
   "id": "5aa7b2c8-85cd-4abe-b04a-057ae40b74f3",
   "metadata": {},
   "outputs": [],
   "source": [
    "# If you do not see any tables run the below command (after uncommeting it)\n",
    "#! python setup.py"
   ]
  },
  {
   "cell_type": "markdown",
   "id": "f6aeced8-5abd-467f-b757-e472e2abb594",
   "metadata": {},
   "source": [
    "# [HOW] to find n-th event in a series of events with Window functions\n",
    "\n",
    "* Many user interactions are stored as events (e.g., impressions, clicks, checkouts, cab called, cab boarded, cab dismounted, etc.)\n",
    "\n",
    "* Analytical questions involve identifying one or more of such events and associating it with a past event. \n",
    "\n",
    "* For example, if a customer purchases a product, how did the user land on the product page (google, ads, Bing, etc.) (aka attribution)?\n",
    "\n",
    "[ref: utm](https://blog.hubspot.com/customers/understanding-basics-utm-parameters)\n",
    "\n"
   ]
  },
  {
   "cell_type": "markdown",
   "id": "0c2a1ffb-3ac2-41ae-8566-dc34c297a326",
   "metadata": {},
   "source": [
    "## [Example] Find n-th click in a series of user clicks \n",
    "\n",
    "* Assume we have a `clickstream` table with user_id and the time they clicked on our web page. We can use ranking functions to pick the user's 3rd (or any n-th) click.\n",
    "\n",
    "* n-th event is a series of events that is beneficial in\n",
    "\t* Marketing attribution\n",
    "\t* Debugging issues with late-arriving data\n",
    "\n"
   ]
  },
  {
   "cell_type": "markdown",
   "id": "a27ca7af-feee-45ea-90f1-c139e99fb367",
   "metadata": {},
   "source": [
    "For example, let's find the 3rd click in a series of clicks:\n",
    "\n",
    "![3-rd click](../../images/3click.png)"
   ]
  },
  {
   "cell_type": "code",
   "execution_count": 6,
   "id": "e977cde4-e8b0-45b4-9fad-27d7d7806e87",
   "metadata": {},
   "outputs": [
    {
     "data": {
      "text/html": [
       "<span style=\"None\">Running query in &#x27;duckdb:///../../tpch.db&#x27;</span>"
      ],
      "text/plain": [
       "Running query in 'duckdb:///../../tpch.db'"
      ]
     },
     "metadata": {},
     "output_type": "display_data"
    },
    {
     "data": {
      "text/html": [
       "<table>\n",
       "    <thead>\n",
       "        <tr>\n",
       "            <th>user_id</th>\n",
       "            <th>click_time</th>\n",
       "            <th>click_rank</th>\n",
       "        </tr>\n",
       "    </thead>\n",
       "    <tbody>\n",
       "        <tr>\n",
       "            <td>2</td>\n",
       "            <td>2024-07-01 10:25:00</td>\n",
       "            <td>3</td>\n",
       "        </tr>\n",
       "        <tr>\n",
       "            <td>1</td>\n",
       "            <td>2024-07-01 10:10:00</td>\n",
       "            <td>3</td>\n",
       "        </tr>\n",
       "    </tbody>\n",
       "</table>"
      ],
      "text/plain": [
       "+---------+---------------------+------------+\n",
       "| user_id |      click_time     | click_rank |\n",
       "+---------+---------------------+------------+\n",
       "|    2    | 2024-07-01 10:25:00 |     3      |\n",
       "|    1    | 2024-07-01 10:10:00 |     3      |\n",
       "+---------+---------------------+------------+"
      ]
     },
     "execution_count": 6,
     "metadata": {},
     "output_type": "execute_result"
    }
   ],
   "source": [
    "%%sql\n",
    "WITH clickstream AS (\n",
    "    SELECT\n",
    "        1 AS user_id, '2024-07-01 10:00:00' AS click_time UNION ALL\n",
    "    SELECT\n",
    "        1 AS user_id, '2024-07-01 10:05:00' AS click_time UNION ALL\n",
    "    SELECT\n",
    "        1 AS user_id, '2024-07-01 10:10:00' AS click_time UNION ALL\n",
    "    SELECT\n",
    "        2 AS user_id, '2024-07-01 10:15:00' AS click_time UNION ALL\n",
    "    SELECT\n",
    "        2 AS user_id, '2024-07-01 10:20:00' AS click_time UNION ALL\n",
    "    SELECT\n",
    "        2 AS user_id, '2024-07-01 10:25:00' AS click_time\n",
    "),\n",
    "ranked_clicks AS (\n",
    "    SELECT\n",
    "        user_id,\n",
    "        click_time,\n",
    "        ROW_NUMBER() OVER (PARTITION BY user_id ORDER BY click_time) AS click_rank\n",
    "    FROM\n",
    "        clickstream\n",
    ")\n",
    "SELECT\n",
    "    user_id,\n",
    "    click_time,\n",
    "    click_rank\n",
    "FROM\n",
    "    ranked_clicks\n",
    "WHERE\n",
    "    click_rank = 3;\n"
   ]
  },
  {
   "cell_type": "markdown",
   "id": "f8ad88f2-0a10-4128-a762-1e3a9d75b162",
   "metadata": {},
   "source": [
    "* This pattern(ROW_NUMBER + ORDER BY unique key) can also remove duplicate rows. \n",
    "\n",
    "* Note: some DBS support drop duplicate function\n",
    "\n",
    "Let's see how we can drop duplicates with this approach:\n",
    "\n",
    "![Remove duplicates](../../images/dupclick.png)"
   ]
  },
  {
   "cell_type": "markdown",
   "id": "8d4e8719-3839-4fb2-bf28-b2de57a97129",
   "metadata": {},
   "source": [
    "## [Exercise] \n",
    "\n",
    "Write a query to remove duplicates from the clickstream data (created as CTE below)\n",
    "\n",
    "**Time limit during live workshop: 5 min**\n",
    "\n",
    "**Hint:**\n",
    "  1. Think about how you can use `row_number` as shown above to remove duplicates."
   ]
  },
  {
   "cell_type": "code",
   "execution_count": 9,
   "id": "f324cc1b-ee9e-402d-8759-767d42230ab0",
   "metadata": {},
   "outputs": [
    {
     "data": {
      "text/html": [
       "<span style=\"None\">Running query in &#x27;duckdb:///../../tpch.db&#x27;</span>"
      ],
      "text/plain": [
       "Running query in 'duckdb:///../../tpch.db'"
      ]
     },
     "metadata": {},
     "output_type": "display_data"
    },
    {
     "data": {
      "text/html": [
       "<table>\n",
       "    <thead>\n",
       "        <tr>\n",
       "            <th>user_id</th>\n",
       "            <th>click_time</th>\n",
       "            <th>click_rank</th>\n",
       "        </tr>\n",
       "    </thead>\n",
       "    <tbody>\n",
       "        <tr>\n",
       "            <td>1</td>\n",
       "            <td>2024-07-01 10:10:00</td>\n",
       "            <td>3</td>\n",
       "        </tr>\n",
       "        <tr>\n",
       "            <td>2</td>\n",
       "            <td>2024-07-01 10:20:00</td>\n",
       "            <td>3</td>\n",
       "        </tr>\n",
       "    </tbody>\n",
       "</table>"
      ],
      "text/plain": [
       "+---------+---------------------+------------+\n",
       "| user_id |      click_time     | click_rank |\n",
       "+---------+---------------------+------------+\n",
       "|    1    | 2024-07-01 10:10:00 |     3      |\n",
       "|    2    | 2024-07-01 10:20:00 |     3      |\n",
       "+---------+---------------------+------------+"
      ]
     },
     "execution_count": 9,
     "metadata": {},
     "output_type": "execute_result"
    }
   ],
   "source": [
    "%%sql\n",
    "WITH clickstream AS (\n",
    "    SELECT\n",
    "        1 AS user_id, '2024-07-01 10:00:00' AS click_time UNION ALL\n",
    "    SELECT\n",
    "        1 AS user_id, '2024-07-01 10:05:00' AS click_time UNION ALL\n",
    "    SELECT\n",
    "        1 AS user_id, '2024-07-01 10:10:00' AS click_time UNION ALL\n",
    "    SELECT\n",
    "        1 AS user_id, '2024-07-01 10:10:00' AS click_time UNION ALL\n",
    "    SELECT\n",
    "        1 AS user_id, '2024-07-01 10:10:00' AS click_time UNION ALL\n",
    "    SELECT\n",
    "        1 AS user_id, '2024-07-01 10:10:00' AS click_time UNION ALL\n",
    "    SELECT\n",
    "        2 AS user_id, '2024-07-01 10:15:00' AS click_time UNION ALL\n",
    "    SELECT\n",
    "        2 AS user_id, '2024-07-01 10:20:00' AS click_time UNION ALL\n",
    "    SELECT\n",
    "        2 AS user_id, '2024-07-01 10:20:00' AS click_time UNION ALL\n",
    "    SELECT\n",
    "        2 AS user_id, '2024-07-01 10:20:00' AS click_time UNION ALL\n",
    "    SELECT\n",
    "        2 AS user_id, '2024-07-01 10:20:00' AS click_time UNION ALL\n",
    "    SELECT\n",
    "        2 AS user_id, '2024-07-01 10:25:00' AS click_time\n",
    "),\n",
    "ranked_clicks AS (\n",
    "    SELECT\n",
    "        user_id,\n",
    "        click_time,\n",
    "        ROW_NUMBER() OVER (PARTITION BY user_id,click_time) AS click_rank\n",
    "    FROM\n",
    "        clickstream\n",
    ")\n",
    "SELECT\n",
    "    user_id,\n",
    "    click_time,\n",
    "    click_rank\n",
    "FROM\n",
    "    ranked_clicks\n",
    "WHERE\n",
    "    click_rank = 3;"
   ]
  },
  {
   "cell_type": "markdown",
   "id": "1f4e2c59-8ce1-4bde-b25c-d134797b781f",
   "metadata": {},
   "source": [
    "# [HOW] Converting row values into individual columns (aka PIVOT)\n",
    "\n",
    "* Commonly used for easy visual summarization\n",
    "\n",
    "* Used extensively by business folks to inspect value distributions\n",
    "\n",
    "Let's take a look at how PIVOT works: \n",
    "\n",
    "Consider that you have this table,\n",
    "\n",
    "| order_month | o_orderpriority    | o_totalprice |\n",
    "|-------------|--------------------|--------------|\n",
    "| 1996-01     | 5-LOW              | 173665.47    |\n",
    "| 1996-12     | 1-URGENT           | 46929.18     |\n",
    "| 1993-10     | 5-LOW              | 193846.25    |\n",
    "| 1995-10     | 5-LOW              | 32151.78     |\n",
    "| 1994-07     | 5-LOW              | 144659.2     |\n",
    "| 1992-02     | 4-NOT SPECIFIED    | 58749.59     |\n",
    "| 1996-01     | 2-HIGH             | 252004.18    |\n",
    "| 1995-07     | 2-HIGH             | 208660.75    |\n",
    "| 1993-10     | 3-MEDIUM           | 163243.98    |\n",
    "| 1998-07     | 3-MEDIUM           | 58949.67     |\n"
   ]
  },
  {
   "cell_type": "markdown",
   "id": "57effb8a-aa15-4d3e-af02-656f87d9bc87",
   "metadata": {},
   "source": [
    "Pivoting it by `o_orderpriority` will convert the values in this column into individual columns as shown below:\n",
    "\n",
    "| order_month | 1-URGENT  | 2-HIGH     | 3-MEDIUM   | 4-NOT SPECIFIED | 5-LOW      |\n",
    "|-------------|-----------|------------|------------|-----------------|------------|\n",
    "| 1992-02     | &nbsp;    | &nbsp;     | &nbsp;     | 58749.59        | &nbsp;     |\n",
    "| 1993-10     | &nbsp;    | &nbsp;     | 163243.98  | &nbsp;          | 193846.25  |\n",
    "| 1994-07     | &nbsp;    | &nbsp;     | &nbsp;     | &nbsp;          | 144659.2   |\n",
    "| 1995-07     | &nbsp;    | 208660.75  | &nbsp;     | &nbsp;          | &nbsp;     |\n",
    "| 1995-10     | &nbsp;    | &nbsp;     | &nbsp;     | &nbsp;          | 32151.78   |\n",
    "| 1996-01     | &nbsp;    | 252004.18  | &nbsp;     | &nbsp;          | 173665.47  |\n",
    "| 1996-12     | 46929.18  | &nbsp;     | &nbsp;     | &nbsp;          | &nbsp;     |\n",
    "| 1998-07     | &nbsp;    | &nbsp;     | 58949.67   | &nbsp;          | &nbsp;     |\n"
   ]
  },
  {
   "cell_type": "markdown",
   "id": "d0625ad5-cfbf-4861-95fc-26edfe727341",
   "metadata": {},
   "source": [
    "`PIVOT` is a very common use case for business people using excel. It is typically used to visually inspect distribution of data (aka do the numbers align with business knowledge).\n",
    "\n",
    "![Pivot in Excel](../../images/pivot.png)"
   ]
  },
  {
   "cell_type": "markdown",
   "id": "9eb5b886-b30e-4d25-b52c-ffe46f991ac5",
   "metadata": {},
   "source": [
    "## Use GROUP BY + CASE WHEN (conditional aggregate) to replicate PIVOT in SQL\n",
    "\n",
    "* Pivots take values in rows and convert them into columns.\n",
    "\n",
    "* We can create this logic in SQL with a CASE WHEN inside a GROUP BY \n",
    "\n",
    "* Only columns with a low number of unique values (aka low cardinality) are pivoted.\n",
    "\n",
    "* Convert `orderpriority` column values into individual columns and calculate monthly revenue.\n"
   ]
  },
  {
   "cell_type": "markdown",
   "id": "987687fd-c4c9-4b53-ab5f-6c4d6d40cc4f",
   "metadata": {},
   "source": [
    "## [Example]"
   ]
  },
  {
   "cell_type": "code",
   "execution_count": null,
   "id": "163c698b-2ebd-4d2b-a4f9-b26ae37ad8a9",
   "metadata": {},
   "outputs": [],
   "source": [
    "%%sql\n",
    "SELECT strftime(o_orderdate, '%Y-%m') AS ordermonth,\n",
    "       ROUND(AVG(CASE\n",
    "                     WHEN o_orderpriority = '1-URGENT' THEN o_totalprice\n",
    "                     ELSE NULL\n",
    "                 END), 2) AS urgent_order_avg_price,\n",
    "       ROUND(AVG(CASE\n",
    "                     WHEN o_orderpriority = '2-HIGH' THEN o_totalprice\n",
    "                     ELSE NULL\n",
    "                 END), 2) AS high_order_avg_price,\n",
    "       ROUND(AVG(CASE\n",
    "                     WHEN o_orderpriority = '3-MEDIUM' THEN o_totalprice\n",
    "                     ELSE NULL\n",
    "                 END), 2) AS medium_order_avg_price,\n",
    "       ROUND(AVG(CASE\n",
    "                     WHEN o_orderpriority = '4-NOT SPECIFIED' THEN o_totalprice\n",
    "                     ELSE NULL\n",
    "                 END), 2) AS not_specified_order_avg_price,\n",
    "       ROUND(AVG(CASE\n",
    "                     WHEN o_orderpriority = '5-LOW' THEN o_totalprice\n",
    "                     ELSE NULL\n",
    "                 END), 2) AS low_order_avg_price\n",
    "FROM orders\n",
    "GROUP BY strftime(o_orderdate, '%Y-%m');\n",
    "\n"
   ]
  },
  {
   "cell_type": "markdown",
   "id": "d32883c5-8452-45f4-a629-70bef9f7d9ff",
   "metadata": {},
   "source": [
    "## [Exercise] \n",
    "\n",
    "Write a query to pivot orders data by orderpriority and show average total price grouped by year\n",
    "    \n",
    "**Time limit during live workshop: 5 min**\n",
    "\n",
    "**Hint**: \n",
    "    1. Use `strftime(o_orderdate, '%Y') AS order_year` to get order_year.\n",
    "\n",
    "`orders` table schema: ![Orders](../../images/orders.png)"
   ]
  },
  {
   "cell_type": "code",
   "execution_count": 10,
   "id": "25b4999a-1747-4670-a9ac-3a0c0a33ff7a",
   "metadata": {},
   "outputs": [
    {
     "data": {
      "text/html": [
       "<span style=\"None\">Running query in &#x27;duckdb:///../../tpch.db&#x27;</span>"
      ],
      "text/plain": [
       "Running query in 'duckdb:///../../tpch.db'"
      ]
     },
     "metadata": {},
     "output_type": "display_data"
    },
    {
     "data": {
      "text/html": [
       "<table>\n",
       "    <thead>\n",
       "        <tr>\n",
       "            <th>order_year</th>\n",
       "            <th>urgent_order_avg_price</th>\n",
       "            <th>high_order_avg_price</th>\n",
       "            <th>medium_order_avg_price</th>\n",
       "            <th>not_specified_order_avg_price</th>\n",
       "            <th>low_order_avg_price</th>\n",
       "        </tr>\n",
       "    </thead>\n",
       "    <tbody>\n",
       "        <tr>\n",
       "            <td>1996</td>\n",
       "            <td>151061.18</td>\n",
       "            <td>151774.86</td>\n",
       "            <td>151454.07</td>\n",
       "            <td>151569.38</td>\n",
       "            <td>151042.53</td>\n",
       "        </tr>\n",
       "        <tr>\n",
       "            <td>1993</td>\n",
       "            <td>151896.15</td>\n",
       "            <td>151544.17</td>\n",
       "            <td>150977.08</td>\n",
       "            <td>151375.31</td>\n",
       "            <td>151783.54</td>\n",
       "        </tr>\n",
       "        <tr>\n",
       "            <td>1998</td>\n",
       "            <td>151605.58</td>\n",
       "            <td>151681.48</td>\n",
       "            <td>151524.74</td>\n",
       "            <td>149777.83</td>\n",
       "            <td>151734.08</td>\n",
       "        </tr>\n",
       "        <tr>\n",
       "            <td>1994</td>\n",
       "            <td>151426.23</td>\n",
       "            <td>152017.45</td>\n",
       "            <td>150287.01</td>\n",
       "            <td>150731.78</td>\n",
       "            <td>151605.29</td>\n",
       "        </tr>\n",
       "        <tr>\n",
       "            <td>1997</td>\n",
       "            <td>151030.14</td>\n",
       "            <td>150796.07</td>\n",
       "            <td>151257.83</td>\n",
       "            <td>150211.43</td>\n",
       "            <td>151236.81</td>\n",
       "        </tr>\n",
       "        <tr>\n",
       "            <td>1992</td>\n",
       "            <td>150779.6</td>\n",
       "            <td>151588.26</td>\n",
       "            <td>151384.55</td>\n",
       "            <td>150863.81</td>\n",
       "            <td>151271.86</td>\n",
       "        </tr>\n",
       "        <tr>\n",
       "            <td>1995</td>\n",
       "            <td>150920.56</td>\n",
       "            <td>151526.86</td>\n",
       "            <td>151343.54</td>\n",
       "            <td>150597.69</td>\n",
       "            <td>151086.98</td>\n",
       "        </tr>\n",
       "    </tbody>\n",
       "</table>"
      ],
      "text/plain": [
       "+------------+------------------------+----------------------+------------------------+-------------------------------+---------------------+\n",
       "| order_year | urgent_order_avg_price | high_order_avg_price | medium_order_avg_price | not_specified_order_avg_price | low_order_avg_price |\n",
       "+------------+------------------------+----------------------+------------------------+-------------------------------+---------------------+\n",
       "|    1996    |       151061.18        |      151774.86       |       151454.07        |           151569.38           |      151042.53      |\n",
       "|    1993    |       151896.15        |      151544.17       |       150977.08        |           151375.31           |      151783.54      |\n",
       "|    1998    |       151605.58        |      151681.48       |       151524.74        |           149777.83           |      151734.08      |\n",
       "|    1994    |       151426.23        |      152017.45       |       150287.01        |           150731.78           |      151605.29      |\n",
       "|    1997    |       151030.14        |      150796.07       |       151257.83        |           150211.43           |      151236.81      |\n",
       "|    1992    |        150779.6        |      151588.26       |       151384.55        |           150863.81           |      151271.86      |\n",
       "|    1995    |       150920.56        |      151526.86       |       151343.54        |           150597.69           |      151086.98      |\n",
       "+------------+------------------------+----------------------+------------------------+-------------------------------+---------------------+"
      ]
     },
     "execution_count": 10,
     "metadata": {},
     "output_type": "execute_result"
    }
   ],
   "source": [
    "%%sql\n",
    "SELECT strftime(o_orderdate, '%Y') AS order_year,\n",
    "       ROUND(AVG(CASE\n",
    "                     WHEN o_orderpriority = '1-URGENT' THEN o_totalprice\n",
    "                     ELSE NULL\n",
    "                 END), 2) AS urgent_order_avg_price,\n",
    "       ROUND(AVG(CASE\n",
    "                     WHEN o_orderpriority = '2-HIGH' THEN o_totalprice\n",
    "                     ELSE NULL\n",
    "                 END), 2) AS high_order_avg_price,\n",
    "       ROUND(AVG(CASE\n",
    "                     WHEN o_orderpriority = '3-MEDIUM' THEN o_totalprice\n",
    "                     ELSE NULL\n",
    "                 END), 2) AS medium_order_avg_price,\n",
    "       ROUND(AVG(CASE\n",
    "                     WHEN o_orderpriority = '4-NOT SPECIFIED' THEN o_totalprice\n",
    "                     ELSE NULL\n",
    "                 END), 2) AS not_specified_order_avg_price,\n",
    "       ROUND(AVG(CASE\n",
    "                     WHEN o_orderpriority = '5-LOW' THEN o_totalprice\n",
    "                     ELSE NULL\n",
    "                 END), 2) AS low_order_avg_price\n",
    "FROM orders\n",
    "GROUP BY strftime(o_orderdate, '%Y');"
   ]
  },
  {
   "cell_type": "markdown",
   "id": "0fcdb45b-c43d-4803-a3ac-cb0abc926aaa",
   "metadata": {},
   "source": [
    "Some DBs support PIVOT\n"
   ]
  },
  {
   "cell_type": "code",
   "execution_count": null,
   "id": "3e8edb6e-ae7c-4f99-b7e2-236552d1ca34",
   "metadata": {},
   "outputs": [],
   "source": [
    "%%sql\n",
    "-- Doesn't work on Jupyter\n",
    "PIVOT\n",
    "  (SELECT *,\n",
    "          strftime(o_orderdate, '%Y-%m') AS order_month\n",
    "   FROM orders) ON o_orderpriority USING AVG(o_totalprice)\n",
    "GROUP BY order_month;"
   ]
  },
  {
   "cell_type": "markdown",
   "id": "fdf8e5f1-29e4-4d44-b9bf-f29d4b5c5555",
   "metadata": {},
   "source": [
    "# [HOW] Most analytical dashboards need period-over-period comparison\n",
    "\n",
    "* Take a look at these popular analytical websites. You will see a few key numbers in big fonts next to a smaller `+/-number` indicating the change percentage.\n",
    "\n",
    "* People are interested in seeing how performance has changed over time\n",
    "\n",
    "* Dashboards show metrics for a certain period and often show how they have changed compared to the prior period.\n",
    "\n",
    "Let's look at some examples:\n",
    "\n",
    "![](../../images/dash.png)\n",
    "\n",
    "This is [Startdataengineering](https://www.startdataengineering.com/)'s user analytics via [Plausible](https://plausible.io/):\n",
    "\n",
    "![Startdataengineering analytics](../../images/pop.png)\n"
   ]
  },
  {
   "cell_type": "markdown",
   "id": "0e116175-a316-445b-9c69-97ddcbda48b6",
   "metadata": {},
   "source": [
    "## Use group by to create metrics at the chosen period grain and window value functions to compare the current period with the previous period\n",
    "\n",
    "* Write a query on the `orders` table that has the following output:\n",
    "\t1. ordermonth (in YYYY-MM format)\n",
    "\t2. Revenue: Sum of totalprice for that month\n",
    "\t3. revenue_MOM_change: The current month's revenue - the previous month's revenue\n",
    "\n"
   ]
  },
  {
   "cell_type": "markdown",
   "id": "af99a54a-64e4-46f7-b470-106f1a515938",
   "metadata": {},
   "source": [
    "## [Example]"
   ]
  },
  {
   "cell_type": "code",
   "execution_count": null,
   "id": "db25b6df-cdc3-4b02-a14e-9789b0ebdfe9",
   "metadata": {},
   "outputs": [],
   "source": [
    "%%sql\n",
    "SELECT order_month,\n",
    "       revenue,\n",
    "       revenue - lag(revenue) OVER (\n",
    "                                    ORDER BY order_month) AS revenue_MOM_change,\n",
    "       ROUND((revenue - lag(revenue) OVER (\n",
    "                                           ORDER BY order_month)) / revenue, 2) AS perc_revenue_MOM_change\n",
    "FROM\n",
    "  (SELECT strftime(o_orderdate, '%Y-%m') AS order_month,\n",
    "          SUM(o_totalprice) AS revenue\n",
    "   FROM orders\n",
    "   GROUP BY 1)\n",
    "ORDER BY 1 ;\n"
   ]
  },
  {
   "cell_type": "markdown",
   "id": "47d4a229-0687-4908-acba-b20cb13697cf",
   "metadata": {},
   "source": [
    "## [Exercise]\n",
    "\n",
    "\n",
    "**Time limit during live workshop: 10 min**\n",
    "\n",
    "* Scenario: You are designing a data set for a dashboard. The dashboard should be able to show metrics at day, week, month, and year levels (assume these are drop-downs on the dashboard).\n",
    "\n",
    "* Assume that you, the data engineer assigned to building the table necessary for the dashboard.\n",
    "\n",
    "* Question 1: What clarifying questions would you ask the dashboard team?\n",
    "\n",
    "* Question 2: How would you design the table to be used by the dashboard software? What are the considerations you need to be mindful of?\n",
    "\n"
   ]
  },
  {
   "cell_type": "markdown",
   "id": "d64b943d-4a7e-40c1-9d6b-73f440da9270",
   "metadata": {},
   "source": [
    "# [Things to note] with Window data access patterns\n",
    "\n",
    "* Query patterns: qps, other filters\n",
    "\n",
    "* Performance consideration: Size of granular data\n",
    "\n",
    "* Pre aggregation: data freshness, additive, nonadditive metrics\n"
   ]
  },
  {
   "cell_type": "markdown",
   "id": "58d42cfc-5b90-4fc2-85d2-322265c2a086",
   "metadata": {},
   "source": [
    "# Recap\n",
    "\n",
    "* Find the nth event in a series of events with ranking window functions\n",
    "\n",
    "* Do pivot in SQL with a CASE WHEN inside an aggregated function\n",
    "\n",
    "* Do period-over-period change calculation with value (lead/lag) window function\n",
    "\n",
    "* Window functions are expensive; if your use case requires repeated use of window functions, consider pre-aggregating your data\n",
    "\n"
   ]
  },
  {
   "cell_type": "markdown",
   "id": "04787ec2-be22-48c5-ab29-7d92179701ae",
   "metadata": {},
   "source": [
    "# Helpers\n",
    "\n",
    "1. Solutions are available at [workshop_solutions](./workshop_solutions.ipynb). **Note** You need to stop the kernel in this notebook before starting the next one, since DuckDB can only have one worker on it at a time.\n",
    "2. Note the `outline`(or `Table of Contents` in the left pane on Jupyter notebook) is a easy way to navigate this workbook."
   ]
  },
  {
   "cell_type": "markdown",
   "id": "0310848f-948e-4888-b0e4-7f926c240c31",
   "metadata": {},
   "source": [
    "# Questions"
   ]
  },
  {
   "cell_type": "code",
   "execution_count": null,
   "id": "2a37ceb3-957f-488b-be3f-6cb7c844c5f9",
   "metadata": {},
   "outputs": [],
   "source": []
  }
 ],
 "metadata": {
  "kernelspec": {
   "display_name": "env",
   "language": "python",
   "name": "python3"
  },
  "language_info": {
   "codemirror_mode": {
    "name": "ipython",
    "version": 3
   },
   "file_extension": ".py",
   "mimetype": "text/x-python",
   "name": "python",
   "nbconvert_exporter": "python",
   "pygments_lexer": "ipython3",
   "version": "3.12.3"
  }
 },
 "nbformat": 4,
 "nbformat_minor": 5
}
