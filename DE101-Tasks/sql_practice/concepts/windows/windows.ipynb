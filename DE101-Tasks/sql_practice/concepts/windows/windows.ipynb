{
 "cells": [
  {
   "cell_type": "markdown",
   "id": "4d77fcda-a590-4ebb-8a9f-21a9fc6a7f5b",
   "metadata": {},
   "source": [
    "# [SETUP] \n",
    "connect to DuckDB"
   ]
  },
  {
   "cell_type": "code",
   "execution_count": 1,
   "id": "6dfe89b6-27a9-4c40-92c7-9ab6796de26c",
   "metadata": {},
   "outputs": [
    {
     "name": "stdout",
     "output_type": "stream",
     "text": [
      "Deploy Panel apps for free on Ploomber Cloud! Learn more: https://ploomber.io/s/signup\n"
     ]
    }
   ],
   "source": [
    "# Load the extension\n",
    "%load_ext sql"
   ]
  },
  {
   "cell_type": "code",
   "execution_count": 2,
   "id": "cb17501d-d516-41f5-b5af-e4a3af8b2107",
   "metadata": {},
   "outputs": [
    {
     "data": {
      "text/html": [
       "<span style=\"None\">Connecting to &#x27;duckdb:///../../tpch.db&#x27;</span>"
      ],
      "text/plain": [
       "Connecting to 'duckdb:///../../tpch.db'"
      ]
     },
     "metadata": {},
     "output_type": "display_data"
    }
   ],
   "source": [
    "# Connect to DuckDB\n",
    "%sql duckdb:///../../tpch.db"
   ]
  },
  {
   "cell_type": "code",
   "execution_count": 3,
   "id": "5c22972c-c723-4fe3-bb1d-34ed851ab046",
   "metadata": {},
   "outputs": [],
   "source": [
    "%config SqlMagic.displaylimit = 100"
   ]
  },
  {
   "cell_type": "code",
   "execution_count": 14,
   "id": "5a4b791b-c8a5-4dcc-acc3-783997f4a490",
   "metadata": {},
   "outputs": [
    {
     "data": {
      "text/html": [
       "<span style=\"None\">Running query in &#x27;duckdb:///tpch.db&#x27;</span>"
      ],
      "text/plain": [
       "Running query in 'duckdb:///tpch.db'"
      ]
     },
     "metadata": {},
     "output_type": "display_data"
    },
    {
     "data": {
      "text/html": [
       "<table>\n",
       "    <thead>\n",
       "        <tr>\n",
       "            <th>table_name</th>\n",
       "        </tr>\n",
       "    </thead>\n",
       "    <tbody>\n",
       "        <tr>\n",
       "            <td>customer</td>\n",
       "        </tr>\n",
       "        <tr>\n",
       "            <td>lineitem</td>\n",
       "        </tr>\n",
       "        <tr>\n",
       "            <td>nation</td>\n",
       "        </tr>\n",
       "        <tr>\n",
       "            <td>orders</td>\n",
       "        </tr>\n",
       "        <tr>\n",
       "            <td>part</td>\n",
       "        </tr>\n",
       "        <tr>\n",
       "            <td>partsupp</td>\n",
       "        </tr>\n",
       "        <tr>\n",
       "            <td>region</td>\n",
       "        </tr>\n",
       "        <tr>\n",
       "            <td>supplier</td>\n",
       "        </tr>\n",
       "    </tbody>\n",
       "</table>"
      ],
      "text/plain": [
       "+------------+\n",
       "| table_name |\n",
       "+------------+\n",
       "|  customer  |\n",
       "|  lineitem  |\n",
       "|   nation   |\n",
       "|   orders   |\n",
       "|    part    |\n",
       "|  partsupp  |\n",
       "|   region   |\n",
       "|  supplier  |\n",
       "+------------+"
      ]
     },
     "execution_count": 14,
     "metadata": {},
     "output_type": "execute_result"
    }
   ],
   "source": [
    "%%sql\n",
    "-- Run a simple show tables\n",
    "SELECT\n",
    "  table_name\n",
    "FROM\n",
    "  information_schema.tables\n",
    "WHERE\n",
    "  table_schema = 'main'"
   ]
  },
  {
   "cell_type": "code",
   "execution_count": null,
   "id": "28736900-f247-4ef8-a14d-33febc52509e",
   "metadata": {},
   "outputs": [],
   "source": [
    "# If you do not see any tables run the below command (after uncommeting it)\n",
    "#! python setup.py"
   ]
  },
  {
   "cell_type": "markdown",
   "id": "a80cff16-24b8-42c4-bb75-b851c725dabb",
   "metadata": {},
   "source": [
    "# [What] Use window functions to do looping with SQL\n",
    "\n",
    "The reason for window functions is because historically, SQL has been set based i.e supporting operating on a set of rows at a time (e.g. GROUP BY,).\n",
    "\n",
    " "
   ]
  },
  {
   "cell_type": "markdown",
   "id": "9d40516b-1a6b-4514-9089-b63f78a75e4f",
   "metadata": {},
   "source": [
    "Lets see why we may need window functions as opposed to a `GROUP BY`.\n",
    "\n",
    "![GROUP BY](../../images/groupby.png)\n",
    "\n",
    "![WINDOW FUNCTION](../../images/window.png)\n",
    "\n",
    "**NOTE** Notice how `GROUP BY` changes granularity, i.e. the input data had one row per order (aka order grain or order level) but the output had one row per date (aka date grain or date level).\n",
    "\n",
    "When you want to operate on a set of rows without changing the grain `Window functions` are almost always a good fit."
   ]
  },
  {
   "cell_type": "markdown",
   "id": "8e5e7d99-f665-42aa-82d3-e505e4c22127",
   "metadata": {},
   "source": [
    "\n",
    "# [WHY] Common scenarios when you want to use window functions\n",
    "\n",
    "1. Calculate running metrics/sliding window over rows in the table (aggregate functions)\n",
    "2. Ranking rows based on values in column(s) (ranking functions)\n",
    "3. Access other row's values while operating on the current row (value functions)\n",
    "4. Any combination of the above"
   ]
  },
  {
   "cell_type": "markdown",
   "id": "9be4b45d-48c1-45d4-b9f7-f0d3c3c3302f",
   "metadata": {},
   "source": [
    "## [HOW] to create a window function\n"
   ]
  },
  {
   "cell_type": "markdown",
   "id": "244e2597-55b4-4b79-94a0-43204dd2b21c",
   "metadata": {},
   "source": [
    "\n",
    "### Window functions have four essential parts\n",
    "\n",
    "1. **Partition**: Defines a set of rows based on specified column(s) value. If no partition is specified, the entire table is considered a partition.\n",
    "2. **Order By**: This optional clause specifies how to order the rows within a partition.\n",
    "3. **Function**: The function to be applied on the current row. The function results in an additional column in the output.\n",
    "4. **Window frame**: Within a partition, a window frame allows you to specify the rows to be considered in the function computation.\n",
    "\n",
    "\n",
    "![](../../images/framing.svg)\n",
    "\n",
    "![Create window function](../../images/create_window.png)\n"
   ]
  },
  {
   "cell_type": "code",
   "execution_count": 16,
   "id": "3e0b2b32-dd1b-46cb-8920-0f0114106c7a",
   "metadata": {},
   "outputs": [
    {
     "data": {
      "text/html": [
       "<span style=\"None\">Running query in &#x27;duckdb:///tpch.db&#x27;</span>"
      ],
      "text/plain": [
       "Running query in 'duckdb:///tpch.db'"
      ]
     },
     "metadata": {},
     "output_type": "display_data"
    },
    {
     "data": {
      "text/html": [
       "<table>\n",
       "    <thead>\n",
       "        <tr>\n",
       "            <th>o_custkey</th>\n",
       "            <th>o_orderdate</th>\n",
       "            <th>o_totalprice</th>\n",
       "            <th>running_sum</th>\n",
       "        </tr>\n",
       "    </thead>\n",
       "    <tbody>\n",
       "        <tr>\n",
       "            <td>4</td>\n",
       "            <td>1992-04-26</td>\n",
       "            <td>311722.87</td>\n",
       "            <td>311722.87</td>\n",
       "        </tr>\n",
       "        <tr>\n",
       "            <td>4</td>\n",
       "            <td>1992-09-20</td>\n",
       "            <td>182956.01</td>\n",
       "            <td>494678.88</td>\n",
       "        </tr>\n",
       "        <tr>\n",
       "            <td>4</td>\n",
       "            <td>1993-10-04</td>\n",
       "            <td>88317.19</td>\n",
       "            <td>582996.07</td>\n",
       "        </tr>\n",
       "        <tr>\n",
       "            <td>4</td>\n",
       "            <td>1994-06-10</td>\n",
       "            <td>40347.48</td>\n",
       "            <td>623343.55</td>\n",
       "        </tr>\n",
       "        <tr>\n",
       "            <td>4</td>\n",
       "            <td>1995-05-06</td>\n",
       "            <td>104934.65</td>\n",
       "            <td>728278.20</td>\n",
       "        </tr>\n",
       "        <tr>\n",
       "            <td>4</td>\n",
       "            <td>1995-11-01</td>\n",
       "            <td>277493.04</td>\n",
       "            <td>1005771.24</td>\n",
       "        </tr>\n",
       "        <tr>\n",
       "            <td>4</td>\n",
       "            <td>1996-01-03</td>\n",
       "            <td>46227.94</td>\n",
       "            <td>1051999.18</td>\n",
       "        </tr>\n",
       "        <tr>\n",
       "            <td>4</td>\n",
       "            <td>1996-01-06</td>\n",
       "            <td>225294.26</td>\n",
       "            <td>1277293.44</td>\n",
       "        </tr>\n",
       "        <tr>\n",
       "            <td>4</td>\n",
       "            <td>1996-06-03</td>\n",
       "            <td>143971.54</td>\n",
       "            <td>1421264.98</td>\n",
       "        </tr>\n",
       "        <tr>\n",
       "            <td>4</td>\n",
       "            <td>1996-06-06</td>\n",
       "            <td>235621.83</td>\n",
       "            <td>1656886.81</td>\n",
       "        </tr>\n",
       "    </tbody>\n",
       "</table>"
      ],
      "text/plain": [
       "+-----------+-------------+--------------+-------------+\n",
       "| o_custkey | o_orderdate | o_totalprice | running_sum |\n",
       "+-----------+-------------+--------------+-------------+\n",
       "|     4     |  1992-04-26 |  311722.87   |  311722.87  |\n",
       "|     4     |  1992-09-20 |  182956.01   |  494678.88  |\n",
       "|     4     |  1993-10-04 |   88317.19   |  582996.07  |\n",
       "|     4     |  1994-06-10 |   40347.48   |  623343.55  |\n",
       "|     4     |  1995-05-06 |  104934.65   |  728278.20  |\n",
       "|     4     |  1995-11-01 |  277493.04   |  1005771.24 |\n",
       "|     4     |  1996-01-03 |   46227.94   |  1051999.18 |\n",
       "|     4     |  1996-01-06 |  225294.26   |  1277293.44 |\n",
       "|     4     |  1996-06-03 |  143971.54   |  1421264.98 |\n",
       "|     4     |  1996-06-06 |  235621.83   |  1656886.81 |\n",
       "+-----------+-------------+--------------+-------------+"
      ]
     },
     "execution_count": 16,
     "metadata": {},
     "output_type": "execute_result"
    }
   ],
   "source": [
    "%%sql\n",
    "SELECT\n",
    "  o_custkey,\n",
    "  o_orderdate,\n",
    "  o_totalprice,\n",
    "  SUM(o_totalprice) -- FUNCTION \n",
    "  OVER (\n",
    "    PARTITION BY\n",
    "      o_custkey -- PARTITION\n",
    "    ORDER BY\n",
    "      o_orderdate -- ORDER BY; ASCENDING ORDER unless specified as DESC\n",
    "  ) AS running_sum\n",
    "FROM\n",
    "  orders\n",
    "WHERE\n",
    "  o_custkey = 4\n",
    "ORDER BY\n",
    "  o_orderdate\n",
    "LIMIT\n",
    "  10;"
   ]
  },
  {
   "cell_type": "markdown",
   "id": "6b3e455e-ef88-4f4d-a080-57bdcd4f116a",
   "metadata": {},
   "source": [
    "The function `SUM` that we use in the above query is an aggregate function. Notice how the `running_sum` adds up (aka aggregates) the `o_totalprice` over all the rows. The rows themselves are ordered in ascending order by its orderdate.\n",
    "\n",
    "**Reference**: While the standard aggregate functions are `MIN, MAX, AVG, SUM, & COUNT`, modern data systems offer a variety of powerful aggregations functions. Check your database documentation for available aggreagate functions. [e.g. list of agg functions available in duckdb](https://duckdb.org/docs/sql/functions/aggregates.html#general-aggregate-functions)"
   ]
  },
  {
   "cell_type": "markdown",
   "id": "a9b6ed93-e8d6-4640-99be-7438c4edccce",
   "metadata": {},
   "source": [
    "### [Exercise] \n",
    "\n",
    "Write a query to calculate the daily running average of totalprice of every customer. \n",
    "\n",
    "Time limit during live workshop: 5 min\n",
    "\n",
    "**Hint**: Figure out the `PARTITION BY` column first, then the `ORDER BY` column and finally the `FUNCTION` to use to compute running average.\n"
   ]
  },
  {
   "cell_type": "code",
   "execution_count": 17,
   "id": "30b1664b-013e-4d5d-ade5-6fe577e57da5",
   "metadata": {},
   "outputs": [
    {
     "data": {
      "text/html": [
       "<span style=\"None\">Running query in &#x27;duckdb:///tpch.db&#x27;</span>"
      ],
      "text/plain": [
       "Running query in 'duckdb:///tpch.db'"
      ]
     },
     "metadata": {},
     "output_type": "display_data"
    },
    {
     "data": {
      "text/html": [
       "<table>\n",
       "    <thead>\n",
       "        <tr>\n",
       "            <th>o_custkey</th>\n",
       "            <th>o_orderdate</th>\n",
       "            <th>o_totalprice</th>\n",
       "            <th>running_avg</th>\n",
       "        </tr>\n",
       "    </thead>\n",
       "    <tbody>\n",
       "        <tr>\n",
       "            <td>4</td>\n",
       "            <td>1992-04-26</td>\n",
       "            <td>311722.87</td>\n",
       "            <td>311722.87</td>\n",
       "        </tr>\n",
       "        <tr>\n",
       "            <td>4</td>\n",
       "            <td>1992-09-20</td>\n",
       "            <td>182956.01</td>\n",
       "            <td>247339.44</td>\n",
       "        </tr>\n",
       "        <tr>\n",
       "            <td>4</td>\n",
       "            <td>1993-10-04</td>\n",
       "            <td>88317.19</td>\n",
       "            <td>194332.02333333335</td>\n",
       "        </tr>\n",
       "        <tr>\n",
       "            <td>4</td>\n",
       "            <td>1994-06-10</td>\n",
       "            <td>40347.48</td>\n",
       "            <td>155835.8875</td>\n",
       "        </tr>\n",
       "        <tr>\n",
       "            <td>4</td>\n",
       "            <td>1995-05-06</td>\n",
       "            <td>104934.65</td>\n",
       "            <td>145655.64</td>\n",
       "        </tr>\n",
       "        <tr>\n",
       "            <td>4</td>\n",
       "            <td>1995-11-01</td>\n",
       "            <td>277493.04</td>\n",
       "            <td>167628.54</td>\n",
       "        </tr>\n",
       "        <tr>\n",
       "            <td>4</td>\n",
       "            <td>1996-01-03</td>\n",
       "            <td>46227.94</td>\n",
       "            <td>150285.59714285715</td>\n",
       "        </tr>\n",
       "        <tr>\n",
       "            <td>4</td>\n",
       "            <td>1996-01-06</td>\n",
       "            <td>225294.26</td>\n",
       "            <td>159661.68</td>\n",
       "        </tr>\n",
       "        <tr>\n",
       "            <td>4</td>\n",
       "            <td>1996-06-03</td>\n",
       "            <td>143971.54</td>\n",
       "            <td>157918.33111111113</td>\n",
       "        </tr>\n",
       "        <tr>\n",
       "            <td>4</td>\n",
       "            <td>1996-06-06</td>\n",
       "            <td>235621.83</td>\n",
       "            <td>165688.681</td>\n",
       "        </tr>\n",
       "    </tbody>\n",
       "</table>"
      ],
      "text/plain": [
       "+-----------+-------------+--------------+--------------------+\n",
       "| o_custkey | o_orderdate | o_totalprice |    running_avg     |\n",
       "+-----------+-------------+--------------+--------------------+\n",
       "|     4     |  1992-04-26 |  311722.87   |     311722.87      |\n",
       "|     4     |  1992-09-20 |  182956.01   |     247339.44      |\n",
       "|     4     |  1993-10-04 |   88317.19   | 194332.02333333335 |\n",
       "|     4     |  1994-06-10 |   40347.48   |    155835.8875     |\n",
       "|     4     |  1995-05-06 |  104934.65   |     145655.64      |\n",
       "|     4     |  1995-11-01 |  277493.04   |     167628.54      |\n",
       "|     4     |  1996-01-03 |   46227.94   | 150285.59714285715 |\n",
       "|     4     |  1996-01-06 |  225294.26   |     159661.68      |\n",
       "|     4     |  1996-06-03 |  143971.54   | 157918.33111111113 |\n",
       "|     4     |  1996-06-06 |  235621.83   |     165688.681     |\n",
       "+-----------+-------------+--------------+--------------------+"
      ]
     },
     "execution_count": 17,
     "metadata": {},
     "output_type": "execute_result"
    }
   ],
   "source": [
    "%%sql\n",
    "SELECT\n",
    "    o_custkey\n",
    "    ,o_orderdate\n",
    "    ,o_totalprice\n",
    "    ,AVG(o_totalprice)\n",
    "    OVER (\n",
    "        PARTITION BY\n",
    "            o_custkey \n",
    "        ORDER BY\n",
    "            o_orderdate\n",
    "    ) AS running_avg\n",
    "    FROM\n",
    "        orders\n",
    "    WHERE\n",
    "        o_custkey = 4\n",
    "    ORDER BY\n",
    "        o_orderdate\n",
    "    LIMIT \n",
    "    10;"
   ]
  },
  {
   "cell_type": "markdown",
   "id": "70979859-cdbf-4ea6-ae12-86c75d25f62e",
   "metadata": {},
   "source": [
    "## [HOW] to use ranking functions to get top/bottom n rows\n",
    "\n",
    "If you are working on a problem to get the top/bottom n rows (as defined by some value) then use the **row** functions.\n",
    "\n",
    "Let's look at an example of how to use a row function:\n",
    "\n",
    "From the `orders` table **get the top 3 spending customers per day**. The orders table schema is shown below:\n",
    "\n",
    "![Orders table](../../images/orders.png)\n"
   ]
  },
  {
   "cell_type": "markdown",
   "id": "082283cd-4ba3-4ea6-a0df-bb9c09c7d7e7",
   "metadata": {},
   "source": [
    "### [Example]"
   ]
  },
  {
   "cell_type": "code",
   "execution_count": 18,
   "id": "9de2b2be-a1e6-4fc4-b152-5228d5474aea",
   "metadata": {},
   "outputs": [
    {
     "data": {
      "text/html": [
       "<span style=\"None\">Running query in &#x27;duckdb:///tpch.db&#x27;</span>"
      ],
      "text/plain": [
       "Running query in 'duckdb:///tpch.db'"
      ]
     },
     "metadata": {},
     "output_type": "display_data"
    },
    {
     "data": {
      "text/html": [
       "<table>\n",
       "    <thead>\n",
       "        <tr>\n",
       "            <th>o_orderdate</th>\n",
       "            <th>o_totalprice</th>\n",
       "            <th>o_custkey</th>\n",
       "            <th>rnk</th>\n",
       "        </tr>\n",
       "    </thead>\n",
       "    <tbody>\n",
       "        <tr>\n",
       "            <td>1992-01-01</td>\n",
       "            <td>464569.20</td>\n",
       "            <td>23122</td>\n",
       "            <td>1</td>\n",
       "        </tr>\n",
       "        <tr>\n",
       "            <td>1992-01-01</td>\n",
       "            <td>408062.30</td>\n",
       "            <td>44632</td>\n",
       "            <td>2</td>\n",
       "        </tr>\n",
       "        <tr>\n",
       "            <td>1992-01-01</td>\n",
       "            <td>387570.61</td>\n",
       "            <td>67691</td>\n",
       "            <td>3</td>\n",
       "        </tr>\n",
       "        <tr>\n",
       "            <td>1992-01-02</td>\n",
       "            <td>429685.09</td>\n",
       "            <td>118874</td>\n",
       "            <td>1</td>\n",
       "        </tr>\n",
       "        <tr>\n",
       "            <td>1992-01-02</td>\n",
       "            <td>405608.69</td>\n",
       "            <td>28190</td>\n",
       "            <td>2</td>\n",
       "        </tr>\n",
       "    </tbody>\n",
       "</table>"
      ],
      "text/plain": [
       "+-------------+--------------+-----------+-----+\n",
       "| o_orderdate | o_totalprice | o_custkey | rnk |\n",
       "+-------------+--------------+-----------+-----+\n",
       "|  1992-01-01 |  464569.20   |   23122   |  1  |\n",
       "|  1992-01-01 |  408062.30   |   44632   |  2  |\n",
       "|  1992-01-01 |  387570.61   |   67691   |  3  |\n",
       "|  1992-01-02 |  429685.09   |   118874  |  1  |\n",
       "|  1992-01-02 |  405608.69   |   28190   |  2  |\n",
       "+-------------+--------------+-----------+-----+"
      ]
     },
     "execution_count": 18,
     "metadata": {},
     "output_type": "execute_result"
    }
   ],
   "source": [
    "%%sql\n",
    "SELECT\n",
    "  *\n",
    "FROM\n",
    "  (\n",
    "    SELECT\n",
    "      o_orderdate,\n",
    "      o_totalprice,\n",
    "      o_custkey,\n",
    "      RANK() -- RANKING FUNCTION \n",
    "      OVER (\n",
    "        PARTITION BY\n",
    "          o_orderdate -- PARTITION BY order date\n",
    "        ORDER BY\n",
    "          o_totalprice DESC -- ORDER rows withing partition by totalprice\n",
    "      ) AS rnk\n",
    "    FROM\n",
    "      orders\n",
    "  )\n",
    "WHERE\n",
    "  rnk <= 3\n",
    "ORDER BY\n",
    "  o_orderdate\n",
    "LIMIT\n",
    "  5;"
   ]
  },
  {
   "cell_type": "markdown",
   "id": "3ce8d6c1-fbbe-4b27-a209-f4e8aad8bd77",
   "metadata": {},
   "source": [
    "### [Exercise] From the `orders` table get the 3 lowest spending customers per day \n",
    "\n",
    "**Time limit during live workshop: 5 min**\n",
    "\n",
    "**Hint**\n",
    "  1. Figure out the `PARTITION BY` column first, then the `ORDER BY` column and finally the `FUNCTION` to use to compute running average.\n",
    "\n",
    "The orders table schema is shown below:\n",
    "\n",
    "![Orders table](../../images/orders.png)\n"
   ]
  },
  {
   "cell_type": "code",
   "execution_count": 5,
   "id": "027c7ea6-ceae-4036-b753-8d67679df575",
   "metadata": {},
   "outputs": [
    {
     "data": {
      "text/html": [
       "<span style=\"None\">Running query in &#x27;duckdb:///../../tpch.db&#x27;</span>"
      ],
      "text/plain": [
       "Running query in 'duckdb:///../../tpch.db'"
      ]
     },
     "metadata": {},
     "output_type": "display_data"
    },
    {
     "data": {
      "text/html": [
       "<table>\n",
       "    <thead>\n",
       "        <tr>\n",
       "            <th>o_orderdate</th>\n",
       "            <th>o_totalprice</th>\n",
       "            <th>o_custkey</th>\n",
       "            <th>rnk</th>\n",
       "        </tr>\n",
       "    </thead>\n",
       "    <tbody>\n",
       "        <tr>\n",
       "            <td>1992-01-01</td>\n",
       "            <td>378570.27</td>\n",
       "            <td>112850</td>\n",
       "            <td>4</td>\n",
       "        </tr>\n",
       "        <tr>\n",
       "            <td>1992-01-01</td>\n",
       "            <td>376873.69</td>\n",
       "            <td>104884</td>\n",
       "            <td>5</td>\n",
       "        </tr>\n",
       "        <tr>\n",
       "            <td>1992-01-01</td>\n",
       "            <td>373074.30</td>\n",
       "            <td>117568</td>\n",
       "            <td>6</td>\n",
       "        </tr>\n",
       "        <tr>\n",
       "            <td>1992-01-01</td>\n",
       "            <td>369552.45</td>\n",
       "            <td>54256</td>\n",
       "            <td>7</td>\n",
       "        </tr>\n",
       "        <tr>\n",
       "            <td>1992-01-01</td>\n",
       "            <td>360243.53</td>\n",
       "            <td>63079</td>\n",
       "            <td>8</td>\n",
       "        </tr>\n",
       "    </tbody>\n",
       "</table>"
      ],
      "text/plain": [
       "+-------------+--------------+-----------+-----+\n",
       "| o_orderdate | o_totalprice | o_custkey | rnk |\n",
       "+-------------+--------------+-----------+-----+\n",
       "|  1992-01-01 |  378570.27   |   112850  |  4  |\n",
       "|  1992-01-01 |  376873.69   |   104884  |  5  |\n",
       "|  1992-01-01 |  373074.30   |   117568  |  6  |\n",
       "|  1992-01-01 |  369552.45   |   54256   |  7  |\n",
       "|  1992-01-01 |  360243.53   |   63079   |  8  |\n",
       "+-------------+--------------+-----------+-----+"
      ]
     },
     "execution_count": 5,
     "metadata": {},
     "output_type": "execute_result"
    }
   ],
   "source": [
    "%%sql\n",
    "SELECT\n",
    "  *\n",
    "FROM\n",
    "  (\n",
    "    SELECT\n",
    "      o_orderdate,\n",
    "      o_totalprice,\n",
    "      o_custkey,\n",
    "      RANK() -- RANKING FUNCTION \n",
    "      OVER (\n",
    "        PARTITION BY\n",
    "          o_orderdate -- PARTITION BY order date\n",
    "        ORDER BY\n",
    "          o_totalprice DESC -- ORDER rows withing partition by totalprice\n",
    "      ) AS rnk\n",
    "    FROM\n",
    "      orders\n",
    "  )\n",
    "WHERE\n",
    "  rnk > 3\n",
    "ORDER BY\n",
    "  o_orderdate\n",
    "LIMIT\n",
    "  5;"
   ]
  },
  {
   "cell_type": "markdown",
   "id": "8316b2a3-1d80-41aa-b564-0aba5894c32c",
   "metadata": {},
   "source": [
    "\n",
    "## [REFERENCE] standard RANKING functions: \n",
    "\n",
    "1. **`RANK`**: Ranks the rows starting from 1 to n within the window frame. Ranks the rows with the same value (defined by the \"ORDER BY\" clause) as the same and skips the ranking numbers that would have been present if the values were different.\n",
    "\n",
    "2. **`DENSE_RANK`**: Ranks the rows starting from 1 to n within the window frame. Ranks the rows with the same value (defined by the \"ORDER BY\" clause) as the same and does not skip any ranking numbers.\n",
    "\n",
    "3. **`ROW_NUMBER`**: Adds a row number that starts from 1 to n within the window frame and does not create any repeating values.\n",
    "\n"
   ]
  },
  {
   "cell_type": "markdown",
   "id": "3e7f6cec-aa8f-4a7a-ac16-8f25ad170825",
   "metadata": {},
   "source": [
    "### [Example]"
   ]
  },
  {
   "cell_type": "code",
   "execution_count": 6,
   "id": "26934620-f746-4e6f-b6b8-6ffd82f30a02",
   "metadata": {},
   "outputs": [
    {
     "data": {
      "text/html": [
       "<span style=\"None\">Running query in &#x27;duckdb:///../../tpch.db&#x27;</span>"
      ],
      "text/plain": [
       "Running query in 'duckdb:///../../tpch.db'"
      ]
     },
     "metadata": {},
     "output_type": "display_data"
    },
    {
     "data": {
      "text/html": [
       "<table>\n",
       "    <thead>\n",
       "        <tr>\n",
       "            <th>order_date</th>\n",
       "            <th>order_id</th>\n",
       "            <th>total_price</th>\n",
       "            <th>row_number</th>\n",
       "            <th>rank</th>\n",
       "            <th>dense_rank</th>\n",
       "        </tr>\n",
       "    </thead>\n",
       "    <tbody>\n",
       "        <tr>\n",
       "            <td>2024-07-08</td>\n",
       "            <td>order_6</td>\n",
       "            <td>90</td>\n",
       "            <td>1</td>\n",
       "            <td>1</td>\n",
       "            <td>1</td>\n",
       "        </tr>\n",
       "        <tr>\n",
       "            <td>2024-07-08</td>\n",
       "            <td>order_4</td>\n",
       "            <td>90</td>\n",
       "            <td>2</td>\n",
       "            <td>1</td>\n",
       "            <td>1</td>\n",
       "        </tr>\n",
       "        <tr>\n",
       "            <td>2024-07-08</td>\n",
       "            <td>order_5</td>\n",
       "            <td>100</td>\n",
       "            <td>3</td>\n",
       "            <td>3</td>\n",
       "            <td>2</td>\n",
       "        </tr>\n",
       "        <tr>\n",
       "            <td>2024-07-08</td>\n",
       "            <td>order_1</td>\n",
       "            <td>100</td>\n",
       "            <td>4</td>\n",
       "            <td>3</td>\n",
       "            <td>2</td>\n",
       "        </tr>\n",
       "        <tr>\n",
       "            <td>2024-07-08</td>\n",
       "            <td>order_7</td>\n",
       "            <td>100</td>\n",
       "            <td>5</td>\n",
       "            <td>3</td>\n",
       "            <td>2</td>\n",
       "        </tr>\n",
       "        <tr>\n",
       "            <td>2024-07-08</td>\n",
       "            <td>order_3</td>\n",
       "            <td>150</td>\n",
       "            <td>6</td>\n",
       "            <td>6</td>\n",
       "            <td>3</td>\n",
       "        </tr>\n",
       "        <tr>\n",
       "            <td>2024-07-08</td>\n",
       "            <td>order_2</td>\n",
       "            <td>200</td>\n",
       "            <td>7</td>\n",
       "            <td>7</td>\n",
       "            <td>4</td>\n",
       "        </tr>\n",
       "        <tr>\n",
       "            <td>2024-07-10</td>\n",
       "            <td>order_8</td>\n",
       "            <td>100</td>\n",
       "            <td>1</td>\n",
       "            <td>1</td>\n",
       "            <td>1</td>\n",
       "        </tr>\n",
       "        <tr>\n",
       "            <td>2024-07-10</td>\n",
       "            <td>order_10</td>\n",
       "            <td>100</td>\n",
       "            <td>2</td>\n",
       "            <td>1</td>\n",
       "            <td>1</td>\n",
       "        </tr>\n",
       "        <tr>\n",
       "            <td>2024-07-10</td>\n",
       "            <td>order_9</td>\n",
       "            <td>100</td>\n",
       "            <td>3</td>\n",
       "            <td>1</td>\n",
       "            <td>1</td>\n",
       "        </tr>\n",
       "        <tr>\n",
       "            <td>2024-07-11</td>\n",
       "            <td>order_11</td>\n",
       "            <td>100</td>\n",
       "            <td>1</td>\n",
       "            <td>1</td>\n",
       "            <td>1</td>\n",
       "        </tr>\n",
       "    </tbody>\n",
       "</table>"
      ],
      "text/plain": [
       "+------------+----------+-------------+------------+------+------------+\n",
       "| order_date | order_id | total_price | row_number | rank | dense_rank |\n",
       "+------------+----------+-------------+------------+------+------------+\n",
       "| 2024-07-08 | order_6  |      90     |     1      |  1   |     1      |\n",
       "| 2024-07-08 | order_4  |      90     |     2      |  1   |     1      |\n",
       "| 2024-07-08 | order_5  |     100     |     3      |  3   |     2      |\n",
       "| 2024-07-08 | order_1  |     100     |     4      |  3   |     2      |\n",
       "| 2024-07-08 | order_7  |     100     |     5      |  3   |     2      |\n",
       "| 2024-07-08 | order_3  |     150     |     6      |  6   |     3      |\n",
       "| 2024-07-08 | order_2  |     200     |     7      |  7   |     4      |\n",
       "| 2024-07-10 | order_8  |     100     |     1      |  1   |     1      |\n",
       "| 2024-07-10 | order_10 |     100     |     2      |  1   |     1      |\n",
       "| 2024-07-10 | order_9  |     100     |     3      |  1   |     1      |\n",
       "| 2024-07-11 | order_11 |     100     |     1      |  1   |     1      |\n",
       "+------------+----------+-------------+------------+------+------------+"
      ]
     },
     "execution_count": 6,
     "metadata": {},
     "output_type": "execute_result"
    }
   ],
   "source": [
    "%%sql\n",
    "-- Let's look at an example showing the difference between RANK, DENSE_RANK and ROW_NUMBER\n",
    "SELECT \n",
    "    order_date,\n",
    "    order_id,\n",
    "    total_price,\n",
    "    ROW_NUMBER() OVER (PARTITION BY order_date ORDER BY total_price) AS row_number,\n",
    "    RANK() OVER (PARTITION BY order_date ORDER BY total_price) AS rank,\n",
    "    DENSE_RANK() OVER (PARTITION BY order_date ORDER BY total_price) AS dense_rank\n",
    "FROM (\n",
    "    SELECT \n",
    "        '2024-07-08' AS order_date, 'order_1' AS order_id, 100 AS total_price UNION ALL\n",
    "    SELECT \n",
    "        '2024-07-08', 'order_2', 200 UNION ALL\n",
    "    SELECT \n",
    "        '2024-07-08', 'order_3', 150 UNION ALL\n",
    "    SELECT \n",
    "        '2024-07-08', 'order_4', 90 UNION ALL\n",
    "    SELECT \n",
    "        '2024-07-08', 'order_5', 100 UNION ALL\n",
    "    SELECT \n",
    "        '2024-07-08', 'order_6', 90 UNION ALL\n",
    "    SELECT \n",
    "        '2024-07-08', 'order_7', 100 UNION ALL\n",
    "    SELECT \n",
    "        '2024-07-10', 'order_8', 100 UNION ALL\n",
    "    SELECT \n",
    "        '2024-07-10', 'order_9', 100 UNION ALL\n",
    "    SELECT \n",
    "        '2024-07-10', 'order_10', 100 UNION ALL\n",
    "    SELECT \n",
    "        '2024-07-11', 'order_11', 100\n",
    ") AS orders\n",
    "ORDER BY order_date, row_number;\n"
   ]
  },
  {
   "cell_type": "markdown",
   "id": "48066b4a-d6fb-4945-8597-27a3ee251042",
   "metadata": {},
   "source": [
    "Now that we have see how to **define a window function** and how to use **ranking and aggregation** functions, let's take it a step further by practicing **value functions**.\n",
    "\n",
    "Remember that value functions are used to access other row's values while operating on the current row"
   ]
  },
  {
   "cell_type": "markdown",
   "id": "5974e167-8df7-4737-9188-1e459f76ceee",
   "metadata": {},
   "source": [
    "Let's take a look at LEAD and LAG functions:\n",
    "\n",
    "![LAG AND LEAD](../../images/leadlag.png)"
   ]
  },
  {
   "cell_type": "markdown",
   "id": "bf7ea173-e067-4c1b-9426-396b14c3583d",
   "metadata": {},
   "source": [
    "### [Exercise] Write a SQL query using the `orders` table that calculates the following columns:\n",
    "\t1. o_orderdate: From orders table\n",
    "\t2. o_custkey: From orders table\n",
    "\t3. o_totalprice: From orders table\n",
    "\t4. totalprice_diff: The customers current day's o_totalprice - that same customers most recent previous purchase's o_totalprice\n",
    "\n",
    "* **Time limit during live workshop: 5 min**\n",
    "\n",
    "* **Hint**: \n",
    "    1. Start by figuring out what the `PARTITION BY` column should be, then what the `ORDER BY` column should be, and then finally the function to use. \n",
    "    2. Use the `LAG(column_name)` ranking function to identify the prior day's revenue.\n",
    "\n",
    "* The orders table schema is shown below:\n",
    "\n",
    "![Orders table](../../images/orders.png)\n"
   ]
  },
  {
   "cell_type": "code",
   "execution_count": null,
   "id": "40d9e2c8-e81a-4c5a-a295-b79d66d37bf6",
   "metadata": {},
   "outputs": [],
   "source": [
    "%%sql\n",
    "-- write your query here"
   ]
  },
  {
   "cell_type": "markdown",
   "id": "a7c7d841-bd5f-4bcd-aac1-541d9d98e113",
   "metadata": {},
   "source": [
    "## [REFERENCE] Here is a quick definition of the standard VALUE functions: \n",
    "\n",
    "1. **NTILE(n)**: Divides the rows in the window frame into n approximately equal groups, and assigns a number to each row indicating which group it belongs to.\n",
    "2. **FIRST_VALUE()**: Returns the first value in the window frame.\n",
    "3. **LAST_VALUE()**: Returns the last value in the window frame.\n",
    "4. **LAG()**: Accesses data from a previous row within the window frame.\n",
    "5. **LEAD()**: Accesses data from a subsequent row within the window frame.\n"
   ]
  },
  {
   "cell_type": "markdown",
   "id": "5eb55057-f129-4b22-b751-9dee0c8f3efb",
   "metadata": {},
   "source": [
    "# [WHY] define a window frame when you have a partition?\n",
    "\n",
    "While our functions operate on the rows in the partition a window frame provides more granular ways to operate on a select set of rows within a partition.\n",
    "\n",
    "When we need to operate one a set of rows within a parition (e.g. a sliding window) we can use the window frame to define these set of rows.\n",
    "\n",
    "![Three order Sliding window average](../../images/slidingwindow.png)\n"
   ]
  },
  {
   "cell_type": "markdown",
   "id": "0832629b-c01f-423a-a4c8-cc91a03455f0",
   "metadata": {},
   "source": [
    "\n",
    "\n",
    "Example\n",
    "\n",
    "Consider a scenario where you have sales data, and you want to calculate a 3-day moving average of sales within each store:\n",
    "\n",
    "```sql\n",
    "SELECT\n",
    "    store_id,\n",
    "    sale_date,\n",
    "    sales_amount,\n",
    "    AVG(sales_amount) OVER (\n",
    "        PARTITION BY store_id\n",
    "        ORDER BY sale_date\n",
    "        ROWS BETWEEN 2 PRECEDING AND CURRENT ROW\n",
    "    ) AS moving_avg_sales\n",
    "FROM\n",
    "    sales;\n",
    "```\n",
    "\n",
    "In this example:\n",
    "\n",
    "1. **PARTITION BY** store_id ensures the calculation is done separately for each store.\n",
    "2. **ORDER BY** sale_date defines the order of rows within each partition.\n",
    "3. **ROWS BETWEEN 2 PRECEDING AND CURRENT ROW** specifies the window frame, considering the current row and the two preceding rows to calculate the moving average.\n",
    "add: image\n",
    "Without defining the window frame, the function might not be able to provide the specific moving average calculation you need."
   ]
  },
  {
   "cell_type": "markdown",
   "id": "83b0fa91-91ce-4746-a58e-8d6b4f7ec3df",
   "metadata": {},
   "source": [
    "## [HOW] to define a window frame with ROWS\n",
    "\n",
    "1. **ROWS**: Used to select a set of rows relative to the current row based on position.\n",
    "    1. Row definition format `ROWS BETWEEN start_point AND end_point`.\n",
    "    2. The start_point and end_point can be any of the following three (in the proper order:\n",
    "        1. **n PRECEDING**: n rows preceding the current row. UNBOUNDED PRECEDING indicates all rows before the current row.\n",
    "        2. **n FOLLOWING**: n rows following the current row. UNBOUNDED FOLLOWING indicates all rows after the current row.\n"
   ]
  },
  {
   "cell_type": "markdown",
   "id": "92ecc45a-a485-464e-b30e-11af4e3de4bc",
   "metadata": {},
   "source": [
    "Let's see how relative row numbers can be used to define a window range.\n",
    "\n",
    "![Window frame with ROWS](../../images/wf.png)"
   ]
  },
  {
   "cell_type": "markdown",
   "id": "7427ec79-052f-4860-ac49-0258a56b5b26",
   "metadata": {},
   "source": [
    "### [Example]\n",
    "\n",
    "\n",
    "1. Write a query on the orders table that has the following output:\n",
    "    1. o_custkey\n",
    "    2. order_month: In YYYY-MM format, use strftime(o_orderdate, '%Y-%m') AS order_month\n",
    "    3. total_price: Sum of o_totalprice for that month\n",
    "    4. three_mo_total_price_avg: The 3 month (previous, current & next) average of total_price for that customer\n",
    "\n"
   ]
  },
  {
   "cell_type": "code",
   "execution_count": null,
   "id": "dc9dac4f-87d2-4a10-8c8f-d8cde477956b",
   "metadata": {},
   "outputs": [],
   "source": [
    "%%sql\n",
    "SELECT\n",
    "  order_month,\n",
    "  o_custkey,\n",
    "  total_price,\n",
    "  ROUND(\n",
    "    AVG(total_price) OVER ( -- FUNCTION: RUNNING AVERAGE\n",
    "      PARTITION BY\n",
    "        o_custkey -- PARTITIONED BY customer\n",
    "      ORDER BY\n",
    "        order_month ROWS BETWEEN 1 PRECEDING\n",
    "        AND 1 FOLLOWING -- WINDOW FRAME DEFINED AS 1 ROW PRECEDING to 1 ROW FOLLOWING\n",
    "    ),\n",
    "    2\n",
    "  ) AS three_mo_total_price_avg\n",
    "FROM\n",
    "  (\n",
    "    SELECT\n",
    "      strftime (o_orderdate, '%Y-%m') AS order_month,\n",
    "      o_custkey,\n",
    "      SUM(o_totalprice) AS total_price\n",
    "    FROM\n",
    "      orders\n",
    "    GROUP BY\n",
    "      1,\n",
    "      2\n",
    "  )\n",
    "LIMIT\n",
    "  5;"
   ]
  },
  {
   "cell_type": "markdown",
   "id": "f69b2764-7a86-4a9c-8d17-88881ab5369d",
   "metadata": {},
   "source": [
    "## [HOW] to define a window frame with RANGE\n",
    "\n",
    "1. **RANGE**: Used to select a set of rows relative to the current row based on the value of the columns specified in the `ORDER BY` clause.\n",
    "    1. Range definition format `RANGE BETWEEN start_point AND end_point`.\n",
    "    2. The start_point and end_point can be any of the following:\n",
    "        1. **CURRENT ROW**: The current row.\n",
    "        2. **n PRECEDING**: All rows with values within the specified range that are less than or equal to n units preceding the value of the current row.\n",
    "        3. **n FOLLOWING**: All rows with values within the specified range that are greater than or equal to n units following the value of the current row.\n",
    "        4. **UNBOUNDED PRECEDING**: All rows before the current row within the partition.\n",
    "        5. **UNBOUNDED FOLLOWING**: All rows after the current row within the partition.\n",
    "    3. `RANGE` is particularly useful when dealing with numeric or date/time ranges, allowing for calculations like running totals, moving averages, or cumulative distributions.\n",
    "\n",
    "Let's see how `RANGE` works with `AVG(total price) OVER (PARTITION BY customer id ORDER BY date RANGE BETWEEN INTERVAL '1' DAY PRECEDING AND '1' DAY FOLLOWING)` using the below visualization:\n",
    "\n",
    "![RANGE](../../images/range.png)"
   ]
  },
  {
   "cell_type": "markdown",
   "id": "e369978d-f6b4-4599-8a33-cd5f762aab5f",
   "metadata": {},
   "source": [
    "### [Exercise]\n",
    "\n",
    "Now that we have seen how to create a window frame with ROWS, let' explore how to do this with RANGE.\n",
    "\n",
    "1. Write a query on the orders table that has the following output:\n",
    "    1. order_month, \n",
    "    2. o_custkey,\n",
    "    3. total_price,\n",
    "    4. three_mo_total_price_avg\n",
    "    5. **consecutive_three_mo_total_price_avg**: The consecutive 3 month average of total_price for that customer. Note that this should only include months that are chronologically next to each other.\n",
    "                                                                                               \n",
    "**Time limit during live workshop: 10 min**\n",
    "                                                                                               \n",
    "**Hint**: Use `CAST(strftime(o_orderdate, '%Y-%m-01') AS DATE)` to cast order_month to date format.\n",
    "\n",
    "**Hint**: Use the `INTERVAL` format shown above to construct the window function to compute `consecutive_three_mo_total_price_avg` column.\n",
    "                                                                                           \n",
    "* The orders table schema is shown below:\n",
    "\n",
    "![Orders table](../../images/orders.png)"
   ]
  },
  {
   "cell_type": "code",
   "execution_count": null,
   "id": "8f72668f-0493-47c5-89aa-6926cf2be35b",
   "metadata": {},
   "outputs": [],
   "source": [
    "%%sql\n",
    "-- write your query here"
   ]
  },
  {
   "cell_type": "markdown",
   "id": "f490392b-1064-4f2d-8cd7-f0f475132ebb",
   "metadata": {},
   "source": [
    "# Recap\n",
    "\n",
    "1. Use windows when:\n",
    "\t* Calculating running metrics (similar to GROUP BY, but keeping all the rows)\n",
    "\t* Rank rows based on specific column(s)\n",
    "\t* Access other row values from the current row\n",
    "2. Window has four key parts: Partition, Order By, Function, Window Frame\n",
    "3. Define window frame with ROWS or RANGE\n",
    "4. Window functions are expensive; be mindful of the performance (Covered in another lesson)\n",
    "\n",
    "# Helpers\n",
    "\n",
    "1. Solutions are available at [workshop_solutions](./workshop_solutions.ipynb). **Note** You need to stop the kernel in this notebook before starting the next one, since DuckDB can only have one worker on it at a time.\n",
    "2. Note the `outline`(or `Table of Contents` in the left pane on Jupyter notebook) is a easy way to navigate this workbook."
   ]
  },
  {
   "cell_type": "markdown",
   "id": "f2baa87c-3815-415d-b0f9-443cc15de994",
   "metadata": {},
   "source": [
    "# Questions\n"
   ]
  },
  {
   "cell_type": "code",
   "execution_count": null,
   "id": "02bed5c4-caab-4318-9fdd-c78f4773e9b2",
   "metadata": {},
   "outputs": [],
   "source": []
  }
 ],
 "metadata": {
  "kernelspec": {
   "display_name": "Python 3 (ipykernel)",
   "language": "python",
   "name": "python3"
  },
  "language_info": {
   "codemirror_mode": {
    "name": "ipython",
    "version": 3
   },
   "file_extension": ".py",
   "mimetype": "text/x-python",
   "name": "python",
   "nbconvert_exporter": "python",
   "pygments_lexer": "ipython3",
   "version": "3.12.5"
  }
 },
 "nbformat": 4,
 "nbformat_minor": 5
}
