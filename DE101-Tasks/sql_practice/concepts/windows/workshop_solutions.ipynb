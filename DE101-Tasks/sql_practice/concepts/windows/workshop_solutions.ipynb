{
 "cells": [
  {
   "cell_type": "markdown",
   "id": "69b19e23-88c5-4e10-8c15-1fe9d2ed73b6",
   "metadata": {},
   "source": [
    "Solutions for windows notebook"
   ]
  },
  {
   "cell_type": "code",
   "execution_count": null,
   "id": "399a6c6a-053b-4a12-9689-0cc1d4d41d57",
   "metadata": {},
   "outputs": [],
   "source": [
    "# Load the extension\n",
    "%load_ext sql"
   ]
  },
  {
   "cell_type": "code",
   "execution_count": null,
   "id": "5c461686-6dde-4bee-9c64-ee49a1abf396",
   "metadata": {},
   "outputs": [],
   "source": [
    "# Connect to DuckDB\n",
    "# NOTE: ONLY 1 NOTEBOOK CAN BE CONNECTED TO DUCKDB AT ANY TIME\n",
    "%sql duckdb:///../../tpch.db"
   ]
  },
  {
   "cell_type": "markdown",
   "id": "ba8e4da8-0b64-42d0-a41a-38a9e215b643",
   "metadata": {},
   "source": [
    "# [Exercise] \n",
    "\n",
    "Write a query to calculate the daily running average of totalprice of every customer. \n",
    "\n",
    "Time limit during live workshop: 5 min\n",
    "\n",
    "**Hint**: Figure out the `PARTITION BY` column first, then the `ORDER BY` column and finally the `FUNCTION` to use to compute running average.\n"
   ]
  },
  {
   "cell_type": "code",
   "execution_count": null,
   "id": "e0a18ba5-372c-4ae5-bf71-8403f77bf279",
   "metadata": {},
   "outputs": [],
   "source": [
    "%%sql\n",
    "SELECT\n",
    "  o_custkey,\n",
    "  o_orderdate,\n",
    "  o_totalprice,\n",
    "  AVG(o_totalprice) -- FUNCTION \n",
    "  OVER (\n",
    "    PARTITION BY\n",
    "      o_custkey -- PARTITION\n",
    "    ORDER BY\n",
    "      o_orderdate -- ORDER BY; ASCENDING ORDER unless specified as DESC\n",
    "  ) AS running_sum\n",
    "FROM\n",
    "  orders\n",
    "WHERE\n",
    "  o_custkey = 4\n",
    "ORDER BY\n",
    "  o_orderdate\n",
    "LIMIT\n",
    "  10;"
   ]
  },
  {
   "cell_type": "markdown",
   "id": "e7e8a3b2-150e-471d-8512-dfbb9a6ebffd",
   "metadata": {},
   "source": [
    "# [Exercise] From the `orders` table get the 3 lowest spending customers per day \n",
    "\n",
    "**Time limit during live workshop: 5 min**\n",
    "\n",
    "**Hint**\n",
    "  1. Figure out the `PARTITION BY` column first, then the `ORDER BY` column and finally the `FUNCTION` to use to compute running average.\n",
    "\n",
    "The orders table schema is shown below:\n",
    "\n",
    "![Orders table](../../images/orders.png)\n"
   ]
  },
  {
   "cell_type": "code",
   "execution_count": null,
   "id": "ca1c9570-ce4a-4d1e-b06f-81628b3e5af9",
   "metadata": {},
   "outputs": [],
   "source": [
    "%%sql\n",
    "SELECT\n",
    "  *\n",
    "FROM\n",
    "  (\n",
    "    SELECT\n",
    "      o_orderdate,\n",
    "      o_totalprice,\n",
    "      o_custkey,\n",
    "      RANK() -- RANKING FUNCTION \n",
    "      OVER (\n",
    "        PARTITION BY\n",
    "          o_orderdate -- PARTITION BY order date\n",
    "        ORDER BY\n",
    "          o_totalprice -- ORDER rows withing partition by totalprice\n",
    "      ) AS rnk\n",
    "    FROM\n",
    "      orders\n",
    "  )\n",
    "WHERE\n",
    "  rnk <= 3\n",
    "ORDER BY\n",
    "  o_orderdate\n",
    "LIMIT\n",
    "  5;"
   ]
  },
  {
   "cell_type": "markdown",
   "id": "33e23fa1-9b86-4f39-8f90-c40f5f20d430",
   "metadata": {},
   "source": [
    "# [Exercise] Write a SQL query using the `orders` table that calculates the following columns:\n",
    "\t1. o_orderdate: From orders table\n",
    "\t2. o_custkey: From orders table\n",
    "\t3. o_totalprice: From orders table\n",
    "\t4. totalprice_diff: The customers current day's o_totalprice - that same customers most recent previous purchase's o_totalprice\n",
    "\n",
    "* **Time limit during live workshop: 5 min**\n",
    "\n",
    "* **Hint**: \n",
    "    1. Start by figuring out what the `PARTITION BY` column should be, then what the `ORDER BY` column should be, and then finally the function to use. \n",
    "    2. Use the `LAG(column_name)` ranking function to identify the prior day's revenue.\n",
    "\n",
    "* The orders table schema is shown below:\n",
    "\n",
    "![Orders table](../../images/orders.png)\n"
   ]
  },
  {
   "cell_type": "code",
   "execution_count": null,
   "id": "f1a8df25-d53d-4eed-a8f0-e2eea4b06044",
   "metadata": {},
   "outputs": [],
   "source": [
    "%%sql\n",
    "SELECT\n",
    "  o_orderdate,\n",
    "  o_custkey,\n",
    "  o_totalprice,\n",
    "  o_totalprice - lag (o_totalprice) OVER (\n",
    "    PARTITION BY\n",
    "      o_custkey\n",
    "    ORDER BY\n",
    "      o_orderdate\n",
    "  ) AS totalprice_diff\n",
    "FROM\n",
    "  orders\n",
    "ORDER BY\n",
    "  o_custkey,\n",
    "  o_orderdate\n",
    "LIMIT\n",
    "  50;"
   ]
  },
  {
   "cell_type": "markdown",
   "id": "5e79ab90-e65b-41c0-a2ce-bcf64a36a34f",
   "metadata": {},
   "source": [
    "# [Exercise]\n",
    "\n",
    "Now that we have seen how to create a window frame with ROWS, let' explore how to do this with RANGE.\n",
    "\n",
    "1. Write a query on the orders table that has the following output:\n",
    "    1. order_month, \n",
    "    2. o_custkey,\n",
    "    3. total_price,\n",
    "    4. three_mo_total_price_avg\n",
    "    5. **consecutive_three_mo_total_price_avg**: The consecutive 3 month average of total_price for that customer. Note that this should only include months that are chronologically next to each other.\n",
    "                                                                                               \n",
    "**Time limit during live workshop: 10 min**\n",
    "                                                                                               \n",
    "**Hint**: Use `CAST(strftime(o_orderdate, '%Y-%m-01') AS DATE)` to cast order_month to date format.\n",
    "\n",
    "**Hint**: Use the `INTERVAL` format shown above to construct the window function to compute `consecutive_three_mo_total_price_avg` column.\n",
    "                                                                                           \n",
    "* The orders table schema is shown below:\n",
    "\n",
    "![Orders table](../../images/orders.png)"
   ]
  },
  {
   "cell_type": "code",
   "execution_count": null,
   "id": "06a4d768-b115-42c8-9d36-29438bf5fcbf",
   "metadata": {},
   "outputs": [],
   "source": [
    "%%sql\n",
    "SELECT\n",
    "  order_month,\n",
    "  o_custkey,\n",
    "  total_price,\n",
    "  ROUND(\n",
    "    AVG(total_price) OVER (\n",
    "      PARTITION BY\n",
    "        o_custkey\n",
    "      ORDER BY\n",
    "        CAST(order_month AS DATE) RANGE BETWEEN INTERVAL '1' MONTH PRECEDING\n",
    "        AND INTERVAL '1' MONTH FOLLOWING\n",
    "    ),\n",
    "    2\n",
    "  ) AS consecutive_three_mo_total_price_avg,\n",
    "  ROUND(\n",
    "    AVG(total_price) OVER (\n",
    "      PARTITION BY\n",
    "        o_custkey\n",
    "      ORDER BY\n",
    "        order_month ROWS BETWEEN 1 PRECEDING\n",
    "        AND 1 FOLLOWING\n",
    "    ),\n",
    "    2\n",
    "  ) AS three_mo_total_price_avg\n",
    "FROM\n",
    "  (\n",
    "    SELECT\n",
    "      strftime (o_orderdate, '%Y-%m-01') AS order_month,\n",
    "      o_custkey,\n",
    "      SUM(o_totalprice) AS total_price\n",
    "    FROM\n",
    "      orders\n",
    "    GROUP BY\n",
    "      1,\n",
    "      2\n",
    "  )\n",
    "ORDER BY\n",
    "  o_custkey,\n",
    "  order_month\n",
    "LIMIT\n",
    "  50;"
   ]
  },
  {
   "cell_type": "code",
   "execution_count": null,
   "id": "700c979f-abc1-41e4-b5b4-b3b54f1b4e49",
   "metadata": {},
   "outputs": [],
   "source": []
  }
 ],
 "metadata": {
  "kernelspec": {
   "display_name": "Python 3 (ipykernel)",
   "language": "python",
   "name": "python3"
  },
  "language_info": {
   "codemirror_mode": {
    "name": "ipython",
    "version": 3
   },
   "file_extension": ".py",
   "mimetype": "text/x-python",
   "name": "python",
   "nbconvert_exporter": "python",
   "pygments_lexer": "ipython3",
   "version": "3.12.4"
  }
 },
 "nbformat": 4,
 "nbformat_minor": 5
}
